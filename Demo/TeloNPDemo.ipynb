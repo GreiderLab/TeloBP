{
 "cells": [
  {
   "cell_type": "markdown",
   "metadata": {},
   "source": [
    "TeloNP Demo + Combining Reads with Alignment Tables"
   ]
  },
  {
   "cell_type": "code",
   "execution_count": 1,
   "metadata": {},
   "outputs": [],
   "source": [
    "from Bio import SeqIO\n",
    "import sys\n",
    "import os\n",
    "import gzip\n",
    "import numpy as np\n",
    "import pandas as pd\n",
    "\n",
    "sys.path.insert(0, '../TeloBP/')\n",
    "from TeloBP import *\n",
    "import constants as c"
   ]
  },
  {
   "cell_type": "markdown",
   "metadata": {},
   "source": [
    "Loading in data"
   ]
  },
  {
   "cell_type": "code",
   "execution_count": 2,
   "metadata": {},
   "outputs": [],
   "source": [
    "def getSampleKeyFromFilename(file):\n",
    "    NBtitle = [x for x in file.split('.') if \"NB\" in x][0]\n",
    "    NBtitle = [x for x in NBtitle.split('_') if \"NB\" in x][0]\n",
    "    NBtitle = NBtitle.replace(\"uq\", \"\")\n",
    "    Ftitle = [x for x in file.split('.') if \"F\" in x][0]\n",
    "    Ftitle = [x for x in Ftitle.split('_') if \"F\" in x][0]\n",
    "    sampleKey = Ftitle + \"_\" + NBtitle\n",
    "    return sampleKey"
   ]
  },
  {
   "cell_type": "code",
   "execution_count": 3,
   "metadata": {},
   "outputs": [
    {
     "name": "stdout",
     "output_type": "stream",
     "text": [
      "F33.JH39-3.NB50uq.fastq.mappan43.assignedarm.txt\n",
      "F33_NB50\n",
      "F33.JH70.NB01uq.fastq.mappan43.assignedarm.txt\n",
      "F33_NB01\n",
      "F33.JH71.NB72uq.fastq.mappan43.assignedarm.txt\n",
      "F33_NB72\n",
      "F38.all.JH113.NB67uq.fastq.mappan43.assignedarm.txt\n",
      "F38_NB67\n",
      "F38.all.JH122.NB69uq.fastq.mappan43.assignedarm.txt\n",
      "F38_NB69\n",
      "F39.all.JH123CB.NB70uq.fastq.mappan43.assignedarm.txt\n",
      "F39_NB70\n",
      "F39.all.JH124CB.NB72uq.fastq.mappan43.assignedarm.txt\n",
      "F39_NB72\n",
      "F40.all.JH76.NB01uq.fastq.mappan43.assignedarm.txt\n",
      "F40_NB01\n",
      "F40.all.JH77.NB15uq.fastq.mappan43.assignedarm.txt\n",
      "F40_NB15\n",
      "F41.2xtelo.JH80.NB50uq.fastq.mappan43.assignedarm.txt\n",
      "F41_NB50\n",
      "F41.2xtelo.JH81.NB65uq.fastq.mappan43.assignedarm.txt\n",
      "F41_NB65\n",
      "F42.2xtelo.JH82.NB67uq.fastq.mappan43.assignedarm.txt\n",
      "F42_NB67\n",
      "F42.2xtelo.JH88.NB69uq.fastq.mappan43.assignedarm.txt\n",
      "F42_NB69\n",
      "F43.2xtelo.JH89.NB70uq.fastq.mappan43.assignedarm.txt\n",
      "F43_NB70\n",
      "F43.2xtelo.JH90.NB69uq.fastq.mappan43.assignedarm.txt\n",
      "F43_NB69\n",
      "F44.all.JH91.NB72uq.fastq.mappan43.assignedarm.txt\n",
      "F44_NB72\n",
      "F44.all.JH93.NB01uq.fastq.mappan43.assignedarm.txt\n",
      "F44_NB01\n",
      "F45.all.NB15uq.fastq.mappan43.assignedarm.txt\n",
      "F45_NB15\n",
      "F45.all.NB19uq.fastq.mappan43.assignedarm.txt\n",
      "F45_NB19\n",
      "F46.all.NB70.fastq.mappan43.assignedarm.txt\n",
      "F46_NB70\n",
      "F46.all.NB72.fastq.mappan43.assignedarm.txt\n",
      "F46_NB72\n",
      "F47.2xtelo.JH101.NB69.fastq.mappan43.assignedarm.txt\n",
      "F47_NB69\n",
      "F47.2xtelo.JH102.NB01.fastq.mappan43.assignedarm.txt\n",
      "F47_NB01\n",
      "F48.2xtelo.JH103.NB15.fastq.mappan43.assignedarm.txt\n",
      "F48_NB15\n",
      "F48.2xtelo.JH104.NB70.fastq.mappan43.assignedarm.txt\n",
      "F48_NB70\n",
      "F49.2xtelo.JH100.NB67.fastq.mappan43.assignedarm.txt\n",
      "F49_NB67\n",
      "F49.2xtelo.JH98.NB50.fastq.mappan43.assignedarm.txt\n",
      "F49_NB50\n",
      "F50.2xtelo.JH105.NB19.fastq.mappan43.assignedarm.txt\n",
      "F50_NB19\n",
      "F50.2xtelo.JH106.NB65.fastq.mappan43.assignedarm.txt\n",
      "F50_NB65\n",
      "F51.JH39.NB68uq.fastq.mappan43.assignedarm.txt\n",
      "F51_NB68\n",
      "F53.2xtelo.JH109.NB68uq.fastq.mappan43.assignedarm.txt\n",
      "F53_NB68\n",
      "F53.2xtelo.JH110.NB19uq.fastq.mappan43.assignedarm.txt\n",
      "F53_NB19\n",
      "F54.filter.JH111.NB88uq.fastq.mappan43.assignedarm.txt\n",
      "F54_NB88\n",
      "F54.filter.JH112.NB65uq.fastq.mappan43.assignedarm.txt\n",
      "F54_NB65\n",
      "F55.filter.JH114.NB65uq.fastq.mappan43.assignedarm.txt\n",
      "F55_NB65\n",
      "F55.filter.JH115.NB67uq.fastq.mappan43.assignedarm.txt\n",
      "F55_NB67\n",
      "F56.filter.JH116.NB69uq.fastq.mappan43.assignedarm.txt\n",
      "F56_NB69\n",
      "F56.filter.JH117.NB70uq.fastq.mappan43.assignedarm.txt\n",
      "F56_NB70\n",
      "F57.filter.JH118.NB72uq.fastq.mappan43.assignedarm.txt\n",
      "F57_NB72\n",
      "F57.filter.JH119.NB01uq.fastq.mappan43.assignedarm.txt\n",
      "F57_NB01\n",
      "F58.filter.JH120.NB15uq.fastq.mappan43.assignedarm.txt\n",
      "F58_NB15\n",
      "F58.filter.JH121.NB19uq.fastq.mappan43.assignedarm.txt\n",
      "F58_NB19\n",
      "F59.filter.JH125.NB01uq.fastq.mappan43.assignedarm.txt\n",
      "F59_NB01\n",
      "F59.filter.JH126.NB15uq.fastq.mappan43.assignedarm.txt\n",
      "F59_NB15\n",
      "F63.filter.AssiSI.NB01uq.fastq.mappan43.assignedarm.txt\n",
      "F63_NB01\n",
      "F63.filter.ClaI.NB50uq.fastq.mappan43.assignedarm.txt\n",
      "F63_NB50\n",
      "F64.filter.NB01uq.fastq.mappan43.assignedarm.txt\n",
      "F64_NB01\n",
      "F64.filter.NB02uq.fastq.mappan43.assignedarm.txt\n",
      "F64_NB02\n",
      "F64.filter.NB15uq.fastq.mappan43.assignedarm.txt\n",
      "F64_NB15\n",
      "F64.filter.NB19uq.fastq.mappan43.assignedarm.txt\n",
      "F64_NB19\n",
      "F65.filter.NB20uq.fastq.mappan43.assignedarm.txt\n",
      "F65_NB20\n",
      "F65.filter.NB50uq.fastq.mappan43.assignedarm.txt\n",
      "F65_NB50\n",
      "F65.filter.NB65uq.fastq.mappan43.assignedarm.txt\n",
      "F65_NB65\n",
      "F65.filter.NB66uq.fastq.mappan43.assignedarm.txt\n",
      "F65_NB66\n",
      "F66.filter.NB67uq.fastq.mappan43.assignedarm.txt\n",
      "F66_NB67\n",
      "F66.filter.NB68uq.fastq.mappan43.assignedarm.txt\n",
      "F66_NB68\n",
      "F66.filter.NB69uq.fastq.mappan43.assignedarm.txt\n",
      "F66_NB69\n",
      "F66.filter.NB70uq.fastq.mappan43.assignedarm.txt\n",
      "F66_NB70\n",
      "F66.filter.NB72uq.fastq.mappan43.assignedarm.txt\n",
      "F66_NB72\n",
      "F67.filter.NB01uq.fastq.mappan43.assignedarm.txt\n",
      "F67_NB01\n",
      "F67.filter.NB15uq.fastq.mappan43.assignedarm.txt\n",
      "F67_NB15\n",
      "F67.filter.NB19uq.fastq.mappan43.assignedarm.txt\n",
      "F67_NB19\n",
      "F67.filter.NB20uq.fastq.mappan43.assignedarm.txt\n",
      "F67_NB20\n",
      "F67.filter.NB50uq.fastq.mappan43.assignedarm.txt\n",
      "F67_NB50\n",
      "F67.filter.NB66uq.fastq.mappan43.assignedarm.txt\n",
      "F67_NB66\n",
      "F67.filter.NB68uq.fastq.mappan43.assignedarm.txt\n",
      "F67_NB68\n",
      "F69.filter.SampE.NB01uq.fastq.mappan43.assignedarm.txt\n",
      "F69_NB01\n",
      "F70.filter.SampH.NB01uq.fastq.mappan43.assignedarm.txt\n",
      "F70_NB01\n",
      "F76.filter.NB01uq.JH150.fastq.mappan43.assignedarm.txt\n",
      "F76_NB01\n",
      "F76.filter.NB15uq.JH153.fastq.mappan43.assignedarm.txt\n",
      "F76_NB15\n",
      "F76.filter.NB50uq.JH151.fastq.mappan43.assignedarm.txt\n",
      "F76_NB50\n",
      "F76.filter.NB66uq.JH152.fastq.mappan43.assignedarm.txt\n",
      "F76_NB66\n",
      "F77.filter.NB01uq.JH154.fastq.mappan43.assignedarm.txt\n",
      "F77_NB01\n",
      "F77.filter.NB15uq.JH156.fastq.mappan43.assignedarm.txt\n",
      "F77_NB15\n",
      "F77.filter.NB50uq.JH163.fastq.mappan43.assignedarm.txt\n",
      "F77_NB50\n",
      "F77.filter.NB66uq.JH155.fastq.mappan43.assignedarm.txt\n",
      "F77_NB66\n",
      "F78.filter.NB01uq.JH157.fastq.mappan43.assignedarm.txt\n",
      "F78_NB01\n",
      "F78.filter.NB15uq.JH160.fastq.mappan43.assignedarm.txt\n",
      "F78_NB15\n",
      "F78.filter.NB50uq.JH159.fastq.mappan43.assignedarm.txt\n",
      "F78_NB50\n",
      "F78.filter.NB66uq.JH158.fastq.mappan43.assignedarm.txt\n",
      "F78_NB66\n",
      "F79.filter.NB01uq.JH171.fastq.mappan43.assignedarm.txt\n",
      "F79_NB01\n",
      "F79.filter.NB15uq.JH161.fastq.mappan43.assignedarm.txt\n",
      "F79_NB15\n",
      "F79.filter.NB50uq.JH172.fastq.mappan43.assignedarm.txt\n",
      "F79_NB50\n",
      "F79.filter.NB66uq.JH162.fastq.mappan43.assignedarm.txt\n",
      "F79_NB66\n",
      "F80.filter.NB01uq.JH167.fastq.mappan43.assignedarm.txt\n",
      "F80_NB01\n",
      "F80.filter.NB15uq.JH164.fastq.mappan43.assignedarm.txt\n",
      "F80_NB15\n",
      "F80.filter.NB20uq.JH169.fastq.mappan43.assignedarm.txt\n",
      "F80_NB20\n",
      "F80.filter.NB50uq.JH170.fastq.mappan43.assignedarm.txt\n",
      "F80_NB50\n",
      "F80.filter.NB66uq.JH165.fastq.mappan43.assignedarm.txt\n",
      "F80_NB66\n",
      "F80.filter.NB68uq.JH166.fastq.mappan43.assignedarm.txt\n",
      "F80_NB68\n",
      "F81.filter.NB01uq.SampF.fastq.mappan43.assignedarm.txt\n",
      "F81_NB01\n",
      "F81.filter.NB50uq.SampG.fastq.mappan43.assignedarm.txt\n",
      "F81_NB50\n",
      "F82.filter.NB01uq.fastq.mappan43.assignedarm.txt\n",
      "F82_NB01\n",
      "F83.filter.NB01uq.fastq.mappan43.assignedarm.txt\n",
      "F83_NB01\n",
      "F84.filter.NB01uq.fastq.mappan43.assignedarm.txt\n",
      "F84_NB01\n",
      "F85.filter.NB01uq.fastq.mappan43.assignedarm.txt\n",
      "F85_NB01\n",
      "F85.filter.NB50uq.fastq.mappan43.assignedarm.txt\n",
      "F85_NB50\n",
      "F86.filter.NB01uq.fastq.mappan43.assignedarm.txt\n",
      "F86_NB01\n",
      "F86.filter.NB20uq.fastq.mappan43.assignedarm.txt\n",
      "F86_NB20\n",
      "F86.filter.NB50uq.fastq.mappan43.assignedarm.txt\n",
      "F86_NB50\n",
      "F86.filter.NB65uq.fastq.mappan43.assignedarm.txt\n",
      "F86_NB65\n",
      "F86.filter.NB66uq.fastq.mappan43.assignedarm.txt\n",
      "F86_NB66\n",
      "F86.filter.NB68uq.fastq.mappan43.assignedarm.txt\n",
      "F86_NB68\n",
      "F86.filter.NB70uq.fastq.mappan43.assignedarm.txt\n",
      "F86_NB70\n",
      "F87.filter.NB01uq.fastq.mappan43.assignedarm.txt\n",
      "F87_NB01\n",
      "F87.filter.NB20uq.fastq.mappan43.assignedarm.txt\n",
      "F87_NB20\n",
      "F87.filter.NB50uq.fastq.mappan43.assignedarm.txt\n",
      "F87_NB50\n",
      "F87.filter.NB65uq.fastq.mappan43.assignedarm.txt\n",
      "F87_NB65\n",
      "F87.filter.NB66uq.fastq.mappan43.assignedarm.txt\n",
      "F87_NB66\n",
      "F87.filter.NB67uq.fastq.mappan43.assignedarm.txt\n",
      "F87_NB67\n",
      "F87.filter.NB68uq.fastq.mappan43.assignedarm.txt\n",
      "F87_NB68\n",
      "F87.filter.NB69uq.fastq.mappan43.assignedarm.txt\n",
      "F87_NB69\n",
      "F87.filter.NB70uq.fastq.mappan43.assignedarm.txt\n",
      "F87_NB70\n",
      "F88.filter.NB01uq.fastq.mappan43.assignedarm.txt\n",
      "F88_NB01\n",
      "F88.filter.NB15uq.fastq.mappan43.assignedarm.txt\n",
      "F88_NB15\n",
      "F88.filter.NB19uq.fastq.mappan43.assignedarm.txt\n",
      "F88_NB19\n",
      "F88.filter.NB20uq.fastq.mappan43.assignedarm.txt\n",
      "F88_NB20\n",
      "F88.filter.NB50uq.fastq.mappan43.assignedarm.txt\n",
      "F88_NB50\n",
      "F88.filter.NB65uq.fastq.mappan43.assignedarm.txt\n",
      "F88_NB65\n",
      "F88.filter.NB66uq.fastq.mappan43.assignedarm.txt\n",
      "F88_NB66\n",
      "F88.filter.NB67uq.fastq.mappan43.assignedarm.txt\n",
      "F88_NB67\n",
      "F88.filter.NB68uq.fastq.mappan43.assignedarm.txt\n",
      "F88_NB68\n",
      "F88.filter.NB69uq.fastq.mappan43.assignedarm.txt\n",
      "F88_NB69\n",
      "F88.filter.NB70uq.fastq.mappan43.assignedarm.txt\n",
      "F88_NB70\n",
      "F88.filter.NB72uq.fastq.mappan43.assignedarm.txt\n",
      "F88_NB72\n",
      "F89.filter.NB01uq.fastq.mappan43.assignedarm.txt\n",
      "F89_NB01\n",
      "F89.filter.NB20uq.fastq.mappan43.assignedarm.txt\n",
      "F89_NB20\n",
      "F89.filter.NB50uq.fastq.mappan43.assignedarm.txt\n",
      "F89_NB50\n",
      "F89.filter.NB66uq.fastq.mappan43.assignedarm.txt\n",
      "F89_NB66\n",
      "F89.filter.NB68uq.fastq.mappan43.assignedarm.txt\n",
      "F89_NB68\n",
      "F90.filter.NB01uq.fastq.mappan43.assignedarm.txt\n",
      "F90_NB01\n",
      "F90.filter.NB20uq.fastq.mappan43.assignedarm.txt\n",
      "F90_NB20\n",
      "F90.filter.NB50uq.fastq.mappan43.assignedarm.txt\n",
      "F90_NB50\n",
      "F90.filter.NB66uq.fastq.mappan43.assignedarm.txt\n",
      "F90_NB66\n",
      "F90.filter.NB68uq.fastq.mappan43.assignedarm.txt\n",
      "F90_NB68\n",
      "F91.filter.NB01uq.fastq.mappan43.assignedarm.txt\n",
      "F91_NB01\n",
      "F91.filter.NB68uq.fastq.mappan43.assignedarm.txt\n",
      "F91_NB68\n",
      "F92.filter.NB01uq.fastq.mappan43.assignedarm.txt\n",
      "F92_NB01\n",
      "F92.filter.NB20uq.fastq.mappan43.assignedarm.txt\n",
      "F92_NB20\n",
      "F92.filter.NB65uq.fastq.mappan43.assignedarm.txt\n",
      "F92_NB65\n",
      "F92.filter.NB66uq.fastq.mappan43.assignedarm.txt\n",
      "F92_NB66\n",
      "F92.filter.NB68uq.fastq.mappan43.assignedarm.txt\n",
      "F92_NB68\n",
      "F92.filter.NB70uq.fastq.mappan43.assignedarm.txt\n",
      "F92_NB70\n",
      "F93.filter.NB01uq.fastq.mappan43.assignedarm.txt\n",
      "F93_NB01\n",
      "F93.filter.NB50uq.fastq.mappan43.assignedarm.txt\n",
      "F93_NB50\n",
      "F93.filter.NB68uq.fastq.mappan43.assignedarm.txt\n",
      "F93_NB68\n",
      "F94.filter.NB01uq.fastq.mappan43.assignedarm.txt\n",
      "F94_NB01\n",
      "F94.filter.NB50uq.fastq.mappan43.assignedarm.txt\n",
      "F94_NB50\n",
      "F94.filter.NB68uq.fastq.mappan43.assignedarm.txt\n",
      "F94_NB68\n",
      "F95.filter.NB01uq.fastq.mappan43.assignedarm.txt\n",
      "F95_NB01\n",
      "F95.filter.NB50uq.fastq.mappan43.assignedarm.txt\n",
      "F95_NB50\n",
      "F95.filter.NB68uq.fastq.mappan43.assignedarm.txt\n",
      "F95_NB68\n",
      "F96.filter.NB01uq.fastq.mappan43.assignedarm.txt\n",
      "F96_NB01\n",
      "F96.filter.NB50uq.fastq.mappan43.assignedarm.txt\n",
      "F96_NB50\n",
      "F96.filter.NB68uq.fastq.mappan43.assignedarm.txt\n",
      "F96_NB68\n",
      "F97.filter.NB01uq.fastq.mappan43.assignedarm.txt\n",
      "F97_NB01\n",
      "F97.filter.NB50uq.fastq.mappan43.assignedarm.txt\n",
      "F97_NB50\n",
      "F98.filter.NB01uq.fastq.mappan43.assignedarm.txt\n",
      "F98_NB01\n",
      "F98.filter.NB50uq.fastq.mappan43.assignedarm.txt\n",
      "F98_NB50\n",
      "F99.JH166.ClaI.NB65uq.fastq.mappan43.assignedarm.txt\n",
      "F99_NB65\n",
      "F99.JH166.PipShear.NB50uq.fastq.mappan43.assignedarm.txt\n",
      "F99_NB50\n",
      "F99.JH39.4.highDNA.NB01uq.fastq.mappan43.assignedarm.txt\n",
      "F99_NB01\n",
      "F99.JH39.lowDNA.NB68uq.fastq.mappan43.assignedarm.txt\n",
      "F99_NB68\n"
     ]
    }
   ],
   "source": [
    "# Here we read in the tables which contain read qnames and alignment information\n",
    "\n",
    "# sampleQnamesDir = \"../../Data/sampleQnamesData/assignment/\"\n",
    "sampleQnamesDir = \"C:/Users/Ramin Kahidi/Bioinformatics/Telomere Analysis/Nanopore project/Data/KarTongData/assignment/\"\n",
    "\n",
    "sampleQnames = {}\n",
    "\n",
    "for root, dirs, files in os.walk(sampleQnamesDir):\n",
    "    for file in files:\n",
    "        if not file.endswith('.txt'):\n",
    "            continue\n",
    "        # skip empty files\n",
    "        if os.stat(os.path.join(root, file)).st_size == 0:\n",
    "            continue\n",
    "        print(file)\n",
    "        \n",
    "        sampleKey = getSampleKeyFromFilename(file)\n",
    "        print(sampleKey)\n",
    "        # read in table and set columns\n",
    "        sampleQnames[sampleKey] = pd.read_csv(os.path.join(root, file), delimiter='\\t', header=None)\n",
    "        sampleQnames[sampleKey].columns = [\"qname\", \"seqLength\", \"sampleQnamesChr\", \"subTeloAlignLength\"]\n"
   ]
  },
  {
   "cell_type": "code",
   "execution_count": 4,
   "metadata": {},
   "outputs": [
    {
     "name": "stdout",
     "output_type": "stream",
     "text": [
      "AG1A24Mix3.NB50uq.fastq.gz\n",
      "AG1A24Mix3.NB68uq.fastq.gz\n",
      "AG1A24Mix3.NB88uq.fastq.gz\n",
      "AG1A24Mix4.NB50uq.fastq.gz\n",
      "AG1A24Mix4.NB68uq.fastq.gz\n",
      "AG1A24Mix4.NB69uq.fastq.gz\n",
      "AG1A24Mix4.NB88uq.fastq.gz\n",
      "F33.JH39-3.NB50uq.fastq.gz\n",
      "F33_NB50\n",
      "Processing F33.JH39-3.NB50uq.fastq.gz\n",
      "C:/Users/Ramin Kahidi/Bioinformatics/Telomere Analysis/Nanopore project/Data/Final.demultip.tagged.fastq\\F33.JH39-3.NB50uq.fastq.gz\n",
      "F33.JH70.NB01uq.fastq.gz\n",
      "F33_NB01\n",
      "Processing F33.JH70.NB01uq.fastq.gz\n",
      "C:/Users/Ramin Kahidi/Bioinformatics/Telomere Analysis/Nanopore project/Data/Final.demultip.tagged.fastq\\F33.JH70.NB01uq.fastq.gz\n",
      "F33.JH71.NB72uq.fastq.gz\n",
      "F33_NB72\n",
      "Processing F33.JH71.NB72uq.fastq.gz\n",
      "C:/Users/Ramin Kahidi/Bioinformatics/Telomere Analysis/Nanopore project/Data/Final.demultip.tagged.fastq\\F33.JH71.NB72uq.fastq.gz\n",
      "F35.2xtelo.JH78.NB01.v1.fastq.gz\n",
      "F35_NB01\n",
      "F35.2xtelo.JH83.NB15.v1.fastq.gz\n",
      "F35_NB15\n",
      "F36.all.JH84.NB19.fastq.gz\n",
      "F36_NB19\n",
      "F36.all.JH85.NB50.fastq.gz\n",
      "F36_NB50\n",
      "F37.all.JH86.NB65.fastq.gz\n",
      "F37_NB65\n",
      "F37.all.JH87.NB67.fastq.gz\n",
      "F37_NB67\n",
      "F38.all.JH113.NB67uq.fastq.gz\n",
      "F38_NB67\n",
      "Processing F38.all.JH113.NB67uq.fastq.gz\n",
      "C:/Users/Ramin Kahidi/Bioinformatics/Telomere Analysis/Nanopore project/Data/Final.demultip.tagged.fastq\\F38.all.JH113.NB67uq.fastq.gz\n",
      "F38.all.JH122.NB69uq.fastq.gz\n",
      "F38_NB69\n",
      "Processing F38.all.JH122.NB69uq.fastq.gz\n",
      "C:/Users/Ramin Kahidi/Bioinformatics/Telomere Analysis/Nanopore project/Data/Final.demultip.tagged.fastq\\F38.all.JH122.NB69uq.fastq.gz\n",
      "F39.all.JH123CB.NB70uq.fastq.gz\n",
      "F39_NB70\n",
      "Processing F39.all.JH123CB.NB70uq.fastq.gz\n",
      "C:/Users/Ramin Kahidi/Bioinformatics/Telomere Analysis/Nanopore project/Data/Final.demultip.tagged.fastq\\F39.all.JH123CB.NB70uq.fastq.gz\n",
      "F39.all.JH124CB.NB72uq.fastq.gz\n",
      "F39_NB72\n",
      "Processing F39.all.JH124CB.NB72uq.fastq.gz\n",
      "C:/Users/Ramin Kahidi/Bioinformatics/Telomere Analysis/Nanopore project/Data/Final.demultip.tagged.fastq\\F39.all.JH124CB.NB72uq.fastq.gz\n",
      "F40.all.JH76.NB01uq.fastq.gz\n",
      "F40_NB01\n",
      "Processing F40.all.JH76.NB01uq.fastq.gz\n",
      "C:/Users/Ramin Kahidi/Bioinformatics/Telomere Analysis/Nanopore project/Data/Final.demultip.tagged.fastq\\F40.all.JH76.NB01uq.fastq.gz\n",
      "F40.all.JH77.NB15uq.fastq.gz\n",
      "F40_NB15\n",
      "Processing F40.all.JH77.NB15uq.fastq.gz\n",
      "C:/Users/Ramin Kahidi/Bioinformatics/Telomere Analysis/Nanopore project/Data/Final.demultip.tagged.fastq\\F40.all.JH77.NB15uq.fastq.gz\n",
      "F41.2xtelo.JH80.NB50uq.fastq.gz\n",
      "F41_NB50\n",
      "Processing F41.2xtelo.JH80.NB50uq.fastq.gz\n",
      "C:/Users/Ramin Kahidi/Bioinformatics/Telomere Analysis/Nanopore project/Data/Final.demultip.tagged.fastq\\F41.2xtelo.JH80.NB50uq.fastq.gz\n",
      "F41.2xtelo.JH81.NB65uq.fastq.gz\n",
      "F41_NB65\n",
      "Processing F41.2xtelo.JH81.NB65uq.fastq.gz\n",
      "C:/Users/Ramin Kahidi/Bioinformatics/Telomere Analysis/Nanopore project/Data/Final.demultip.tagged.fastq\\F41.2xtelo.JH81.NB65uq.fastq.gz\n",
      "F42.2xtelo.JH82.NB67uq.fastq.gz\n",
      "F42_NB67\n",
      "Processing F42.2xtelo.JH82.NB67uq.fastq.gz\n",
      "C:/Users/Ramin Kahidi/Bioinformatics/Telomere Analysis/Nanopore project/Data/Final.demultip.tagged.fastq\\F42.2xtelo.JH82.NB67uq.fastq.gz\n",
      "F42.2xtelo.JH88.NB69uq.fastq.gz\n",
      "F42_NB69\n",
      "Processing F42.2xtelo.JH88.NB69uq.fastq.gz\n",
      "C:/Users/Ramin Kahidi/Bioinformatics/Telomere Analysis/Nanopore project/Data/Final.demultip.tagged.fastq\\F42.2xtelo.JH88.NB69uq.fastq.gz\n",
      "F43.2xtelo.JH89.NB70uq.fastq.gz\n",
      "F43_NB70\n",
      "Processing F43.2xtelo.JH89.NB70uq.fastq.gz\n",
      "C:/Users/Ramin Kahidi/Bioinformatics/Telomere Analysis/Nanopore project/Data/Final.demultip.tagged.fastq\\F43.2xtelo.JH89.NB70uq.fastq.gz\n",
      "F43.2xtelo.JH90.NB69uq.fastq.gz\n",
      "F43_NB69\n",
      "Processing F43.2xtelo.JH90.NB69uq.fastq.gz\n",
      "C:/Users/Ramin Kahidi/Bioinformatics/Telomere Analysis/Nanopore project/Data/Final.demultip.tagged.fastq\\F43.2xtelo.JH90.NB69uq.fastq.gz\n",
      "F44.all.JH91.NB72uq.fastq.gz\n",
      "F44_NB72\n",
      "Processing F44.all.JH91.NB72uq.fastq.gz\n",
      "C:/Users/Ramin Kahidi/Bioinformatics/Telomere Analysis/Nanopore project/Data/Final.demultip.tagged.fastq\\F44.all.JH91.NB72uq.fastq.gz\n",
      "F44.all.JH93.NB01uq.fastq.gz\n",
      "F44_NB01\n",
      "Processing F44.all.JH93.NB01uq.fastq.gz\n",
      "C:/Users/Ramin Kahidi/Bioinformatics/Telomere Analysis/Nanopore project/Data/Final.demultip.tagged.fastq\\F44.all.JH93.NB01uq.fastq.gz\n",
      "F45.all.NB15uq.fastq.gz\n",
      "F45_NB15\n",
      "Processing F45.all.NB15uq.fastq.gz\n",
      "C:/Users/Ramin Kahidi/Bioinformatics/Telomere Analysis/Nanopore project/Data/Final.demultip.tagged.fastq\\F45.all.NB15uq.fastq.gz\n",
      "F45.all.NB19uq.fastq.gz\n",
      "F45_NB19\n",
      "Processing F45.all.NB19uq.fastq.gz\n",
      "C:/Users/Ramin Kahidi/Bioinformatics/Telomere Analysis/Nanopore project/Data/Final.demultip.tagged.fastq\\F45.all.NB19uq.fastq.gz\n",
      "F46.all.NB70.fastq.gz\n",
      "F46_NB70\n",
      "Processing F46.all.NB70.fastq.gz\n",
      "C:/Users/Ramin Kahidi/Bioinformatics/Telomere Analysis/Nanopore project/Data/Final.demultip.tagged.fastq\\F46.all.NB70.fastq.gz\n",
      "F46.all.NB72.fastq.gz\n",
      "F46_NB72\n",
      "Processing F46.all.NB72.fastq.gz\n",
      "C:/Users/Ramin Kahidi/Bioinformatics/Telomere Analysis/Nanopore project/Data/Final.demultip.tagged.fastq\\F46.all.NB72.fastq.gz\n",
      "F47.2xtelo.JH101.NB69.fastq.gz\n",
      "F47_NB69\n",
      "Processing F47.2xtelo.JH101.NB69.fastq.gz\n",
      "C:/Users/Ramin Kahidi/Bioinformatics/Telomere Analysis/Nanopore project/Data/Final.demultip.tagged.fastq\\F47.2xtelo.JH101.NB69.fastq.gz\n",
      "F47.2xtelo.JH102.NB01.fastq.gz\n",
      "F47_NB01\n",
      "Processing F47.2xtelo.JH102.NB01.fastq.gz\n",
      "C:/Users/Ramin Kahidi/Bioinformatics/Telomere Analysis/Nanopore project/Data/Final.demultip.tagged.fastq\\F47.2xtelo.JH102.NB01.fastq.gz\n",
      "F48.2xtelo.JH103.NB15.fastq.gz\n",
      "F48_NB15\n",
      "Processing F48.2xtelo.JH103.NB15.fastq.gz\n",
      "C:/Users/Ramin Kahidi/Bioinformatics/Telomere Analysis/Nanopore project/Data/Final.demultip.tagged.fastq\\F48.2xtelo.JH103.NB15.fastq.gz\n",
      "F48.2xtelo.JH104.NB70.fastq.gz\n",
      "F48_NB70\n",
      "Processing F48.2xtelo.JH104.NB70.fastq.gz\n",
      "C:/Users/Ramin Kahidi/Bioinformatics/Telomere Analysis/Nanopore project/Data/Final.demultip.tagged.fastq\\F48.2xtelo.JH104.NB70.fastq.gz\n",
      "F49.2xtelo.JH100.NB67.fastq.gz\n",
      "F49_NB67\n",
      "Processing F49.2xtelo.JH100.NB67.fastq.gz\n",
      "C:/Users/Ramin Kahidi/Bioinformatics/Telomere Analysis/Nanopore project/Data/Final.demultip.tagged.fastq\\F49.2xtelo.JH100.NB67.fastq.gz\n",
      "F49.2xtelo.JH98.NB50.fastq.gz\n",
      "F49_NB50\n",
      "Processing F49.2xtelo.JH98.NB50.fastq.gz\n",
      "C:/Users/Ramin Kahidi/Bioinformatics/Telomere Analysis/Nanopore project/Data/Final.demultip.tagged.fastq\\F49.2xtelo.JH98.NB50.fastq.gz\n",
      "F50.2xtelo.JH105.NB19.fastq.gz\n",
      "F50_NB19\n",
      "Processing F50.2xtelo.JH105.NB19.fastq.gz\n",
      "C:/Users/Ramin Kahidi/Bioinformatics/Telomere Analysis/Nanopore project/Data/Final.demultip.tagged.fastq\\F50.2xtelo.JH105.NB19.fastq.gz\n",
      "F50.2xtelo.JH106.NB65.fastq.gz\n",
      "F50_NB65\n",
      "Processing F50.2xtelo.JH106.NB65.fastq.gz\n",
      "C:/Users/Ramin Kahidi/Bioinformatics/Telomere Analysis/Nanopore project/Data/Final.demultip.tagged.fastq\\F50.2xtelo.JH106.NB65.fastq.gz\n",
      "F51.JH39.NB68uq.fastq.gz\n",
      "F51_NB68\n",
      "Processing F51.JH39.NB68uq.fastq.gz\n",
      "C:/Users/Ramin Kahidi/Bioinformatics/Telomere Analysis/Nanopore project/Data/Final.demultip.tagged.fastq\\F51.JH39.NB68uq.fastq.gz\n",
      "F53.2xtelo.JH109.NB68uq.fastq.gz\n",
      "F53_NB68\n",
      "Processing F53.2xtelo.JH109.NB68uq.fastq.gz\n",
      "C:/Users/Ramin Kahidi/Bioinformatics/Telomere Analysis/Nanopore project/Data/Final.demultip.tagged.fastq\\F53.2xtelo.JH109.NB68uq.fastq.gz\n",
      "F53.2xtelo.JH110.NB19uq.fastq.gz\n",
      "F53_NB19\n",
      "Processing F53.2xtelo.JH110.NB19uq.fastq.gz\n",
      "C:/Users/Ramin Kahidi/Bioinformatics/Telomere Analysis/Nanopore project/Data/Final.demultip.tagged.fastq\\F53.2xtelo.JH110.NB19uq.fastq.gz\n",
      "F54.filter.JH111.NB88uq.fastq.gz\n",
      "F54_NB88\n",
      "Processing F54.filter.JH111.NB88uq.fastq.gz\n",
      "C:/Users/Ramin Kahidi/Bioinformatics/Telomere Analysis/Nanopore project/Data/Final.demultip.tagged.fastq\\F54.filter.JH111.NB88uq.fastq.gz\n",
      "F54.filter.JH112.NB65uq.fastq.gz\n",
      "F54_NB65\n",
      "Processing F54.filter.JH112.NB65uq.fastq.gz\n",
      "C:/Users/Ramin Kahidi/Bioinformatics/Telomere Analysis/Nanopore project/Data/Final.demultip.tagged.fastq\\F54.filter.JH112.NB65uq.fastq.gz\n",
      "F55.filter.JH114.NB65uq.fastq.gz\n",
      "F55_NB65\n",
      "Processing F55.filter.JH114.NB65uq.fastq.gz\n",
      "C:/Users/Ramin Kahidi/Bioinformatics/Telomere Analysis/Nanopore project/Data/Final.demultip.tagged.fastq\\F55.filter.JH114.NB65uq.fastq.gz\n",
      "F55.filter.JH115.NB67uq.fastq.gz\n",
      "F55_NB67\n",
      "Processing F55.filter.JH115.NB67uq.fastq.gz\n",
      "C:/Users/Ramin Kahidi/Bioinformatics/Telomere Analysis/Nanopore project/Data/Final.demultip.tagged.fastq\\F55.filter.JH115.NB67uq.fastq.gz\n",
      "F56.filter.JH116.NB69uq.fastq.gz\n",
      "F56_NB69\n",
      "Processing F56.filter.JH116.NB69uq.fastq.gz\n",
      "C:/Users/Ramin Kahidi/Bioinformatics/Telomere Analysis/Nanopore project/Data/Final.demultip.tagged.fastq\\F56.filter.JH116.NB69uq.fastq.gz\n",
      "F56.filter.JH117.NB70uq.fastq.gz\n",
      "F56_NB70\n",
      "Processing F56.filter.JH117.NB70uq.fastq.gz\n",
      "C:/Users/Ramin Kahidi/Bioinformatics/Telomere Analysis/Nanopore project/Data/Final.demultip.tagged.fastq\\F56.filter.JH117.NB70uq.fastq.gz\n",
      "F57.filter.JH118.NB72uq.fastq.gz\n",
      "F57_NB72\n",
      "Processing F57.filter.JH118.NB72uq.fastq.gz\n",
      "C:/Users/Ramin Kahidi/Bioinformatics/Telomere Analysis/Nanopore project/Data/Final.demultip.tagged.fastq\\F57.filter.JH118.NB72uq.fastq.gz\n",
      "F57.filter.JH119.NB01uq.fastq.gz\n",
      "F57_NB01\n",
      "Processing F57.filter.JH119.NB01uq.fastq.gz\n",
      "C:/Users/Ramin Kahidi/Bioinformatics/Telomere Analysis/Nanopore project/Data/Final.demultip.tagged.fastq\\F57.filter.JH119.NB01uq.fastq.gz\n",
      "F58.filter.JH120.NB15uq.fastq.gz\n",
      "F58_NB15\n",
      "Processing F58.filter.JH120.NB15uq.fastq.gz\n",
      "C:/Users/Ramin Kahidi/Bioinformatics/Telomere Analysis/Nanopore project/Data/Final.demultip.tagged.fastq\\F58.filter.JH120.NB15uq.fastq.gz\n",
      "F58.filter.JH121.NB19uq.fastq.gz\n",
      "F58_NB19\n",
      "Processing F58.filter.JH121.NB19uq.fastq.gz\n",
      "C:/Users/Ramin Kahidi/Bioinformatics/Telomere Analysis/Nanopore project/Data/Final.demultip.tagged.fastq\\F58.filter.JH121.NB19uq.fastq.gz\n",
      "F59.filter.JH125.NB01uq.fastq.gz\n",
      "F59_NB01\n",
      "Processing F59.filter.JH125.NB01uq.fastq.gz\n",
      "C:/Users/Ramin Kahidi/Bioinformatics/Telomere Analysis/Nanopore project/Data/Final.demultip.tagged.fastq\\F59.filter.JH125.NB01uq.fastq.gz\n",
      "F59.filter.JH126.NB15uq.fastq.gz\n",
      "F59_NB15\n",
      "Processing F59.filter.JH126.NB15uq.fastq.gz\n",
      "C:/Users/Ramin Kahidi/Bioinformatics/Telomere Analysis/Nanopore project/Data/Final.demultip.tagged.fastq\\F59.filter.JH126.NB15uq.fastq.gz\n",
      "F63.filter.AssiSI.NB01uq.fastq.gz\n",
      "F63_NB01\n",
      "Processing F63.filter.AssiSI.NB01uq.fastq.gz\n",
      "C:/Users/Ramin Kahidi/Bioinformatics/Telomere Analysis/Nanopore project/Data/Final.demultip.tagged.fastq\\F63.filter.AssiSI.NB01uq.fastq.gz\n",
      "F63.filter.ClaI.NB50uq.fastq.gz\n",
      "F63_NB50\n",
      "Processing F63.filter.ClaI.NB50uq.fastq.gz\n",
      "C:/Users/Ramin Kahidi/Bioinformatics/Telomere Analysis/Nanopore project/Data/Final.demultip.tagged.fastq\\F63.filter.ClaI.NB50uq.fastq.gz\n",
      "F64.filter.NB01uq.fastq.gz\n",
      "F64_NB01\n",
      "Processing F64.filter.NB01uq.fastq.gz\n",
      "C:/Users/Ramin Kahidi/Bioinformatics/Telomere Analysis/Nanopore project/Data/Final.demultip.tagged.fastq\\F64.filter.NB01uq.fastq.gz\n",
      "F64.filter.NB02uq.fastq.gz\n",
      "F64_NB02\n",
      "Processing F64.filter.NB02uq.fastq.gz\n",
      "C:/Users/Ramin Kahidi/Bioinformatics/Telomere Analysis/Nanopore project/Data/Final.demultip.tagged.fastq\\F64.filter.NB02uq.fastq.gz\n",
      "F64.filter.NB15uq.fastq.gz\n",
      "F64_NB15\n",
      "Processing F64.filter.NB15uq.fastq.gz\n",
      "C:/Users/Ramin Kahidi/Bioinformatics/Telomere Analysis/Nanopore project/Data/Final.demultip.tagged.fastq\\F64.filter.NB15uq.fastq.gz\n",
      "F64.filter.NB19uq.fastq.gz\n",
      "F64_NB19\n",
      "Processing F64.filter.NB19uq.fastq.gz\n",
      "C:/Users/Ramin Kahidi/Bioinformatics/Telomere Analysis/Nanopore project/Data/Final.demultip.tagged.fastq\\F64.filter.NB19uq.fastq.gz\n",
      "F65.filter.NB20uq.fastq.gz\n",
      "F65_NB20\n",
      "Processing F65.filter.NB20uq.fastq.gz\n",
      "C:/Users/Ramin Kahidi/Bioinformatics/Telomere Analysis/Nanopore project/Data/Final.demultip.tagged.fastq\\F65.filter.NB20uq.fastq.gz\n",
      "F65.filter.NB50uq.fastq.gz\n",
      "F65_NB50\n",
      "Processing F65.filter.NB50uq.fastq.gz\n",
      "C:/Users/Ramin Kahidi/Bioinformatics/Telomere Analysis/Nanopore project/Data/Final.demultip.tagged.fastq\\F65.filter.NB50uq.fastq.gz\n",
      "F65.filter.NB66uq.fastq.gz\n",
      "F65_NB66\n",
      "Processing F65.filter.NB66uq.fastq.gz\n",
      "C:/Users/Ramin Kahidi/Bioinformatics/Telomere Analysis/Nanopore project/Data/Final.demultip.tagged.fastq\\F65.filter.NB66uq.fastq.gz\n",
      "F65.JH143.filter.NB65uq.fastq.gz\n",
      "F65_NB65\n",
      "Processing F65.JH143.filter.NB65uq.fastq.gz\n",
      "C:/Users/Ramin Kahidi/Bioinformatics/Telomere Analysis/Nanopore project/Data/Final.demultip.tagged.fastq\\F65.JH143.filter.NB65uq.fastq.gz\n",
      "F66.filter.NB67uq.fastq.gz\n",
      "F66_NB67\n",
      "Processing F66.filter.NB67uq.fastq.gz\n",
      "C:/Users/Ramin Kahidi/Bioinformatics/Telomere Analysis/Nanopore project/Data/Final.demultip.tagged.fastq\\F66.filter.NB67uq.fastq.gz\n",
      "F66.filter.NB68uq.fastq.gz\n",
      "F66_NB68\n",
      "Processing F66.filter.NB68uq.fastq.gz\n",
      "C:/Users/Ramin Kahidi/Bioinformatics/Telomere Analysis/Nanopore project/Data/Final.demultip.tagged.fastq\\F66.filter.NB68uq.fastq.gz\n",
      "F66.filter.NB69uq.fastq.gz\n",
      "F66_NB69\n",
      "Processing F66.filter.NB69uq.fastq.gz\n",
      "C:/Users/Ramin Kahidi/Bioinformatics/Telomere Analysis/Nanopore project/Data/Final.demultip.tagged.fastq\\F66.filter.NB69uq.fastq.gz\n",
      "F66.filter.NB70uq.fastq.gz\n",
      "F66_NB70\n",
      "Processing F66.filter.NB70uq.fastq.gz\n",
      "C:/Users/Ramin Kahidi/Bioinformatics/Telomere Analysis/Nanopore project/Data/Final.demultip.tagged.fastq\\F66.filter.NB70uq.fastq.gz\n",
      "F66.filter.NB72uq.fastq.gz\n",
      "F66_NB72\n",
      "Processing F66.filter.NB72uq.fastq.gz\n",
      "C:/Users/Ramin Kahidi/Bioinformatics/Telomere Analysis/Nanopore project/Data/Final.demultip.tagged.fastq\\F66.filter.NB72uq.fastq.gz\n",
      "F67.filter.NB01uq.fastq.gz\n",
      "F67_NB01\n",
      "Processing F67.filter.NB01uq.fastq.gz\n",
      "C:/Users/Ramin Kahidi/Bioinformatics/Telomere Analysis/Nanopore project/Data/Final.demultip.tagged.fastq\\F67.filter.NB01uq.fastq.gz\n",
      "F67.filter.NB15uq.fastq.gz\n",
      "F67_NB15\n",
      "Processing F67.filter.NB15uq.fastq.gz\n",
      "C:/Users/Ramin Kahidi/Bioinformatics/Telomere Analysis/Nanopore project/Data/Final.demultip.tagged.fastq\\F67.filter.NB15uq.fastq.gz\n",
      "F67.filter.NB19uq.fastq.gz\n",
      "F67_NB19\n",
      "Processing F67.filter.NB19uq.fastq.gz\n",
      "C:/Users/Ramin Kahidi/Bioinformatics/Telomere Analysis/Nanopore project/Data/Final.demultip.tagged.fastq\\F67.filter.NB19uq.fastq.gz\n",
      "F67.filter.NB20uq.fastq.gz\n",
      "F67_NB20\n",
      "Processing F67.filter.NB20uq.fastq.gz\n",
      "C:/Users/Ramin Kahidi/Bioinformatics/Telomere Analysis/Nanopore project/Data/Final.demultip.tagged.fastq\\F67.filter.NB20uq.fastq.gz\n",
      "F67.filter.NB50uq.fastq.gz\n",
      "F67_NB50\n",
      "Processing F67.filter.NB50uq.fastq.gz\n",
      "C:/Users/Ramin Kahidi/Bioinformatics/Telomere Analysis/Nanopore project/Data/Final.demultip.tagged.fastq\\F67.filter.NB50uq.fastq.gz\n",
      "F67.filter.NB66uq.fastq.gz\n",
      "F67_NB66\n",
      "Processing F67.filter.NB66uq.fastq.gz\n",
      "C:/Users/Ramin Kahidi/Bioinformatics/Telomere Analysis/Nanopore project/Data/Final.demultip.tagged.fastq\\F67.filter.NB66uq.fastq.gz\n",
      "F67.filter.NB68uq.fastq.gz\n",
      "F67_NB68\n",
      "Processing F67.filter.NB68uq.fastq.gz\n",
      "C:/Users/Ramin Kahidi/Bioinformatics/Telomere Analysis/Nanopore project/Data/Final.demultip.tagged.fastq\\F67.filter.NB68uq.fastq.gz\n",
      "F69.filter.SampE.NB01uq.fastq.gz\n",
      "F69_NB01\n",
      "Processing F69.filter.SampE.NB01uq.fastq.gz\n",
      "C:/Users/Ramin Kahidi/Bioinformatics/Telomere Analysis/Nanopore project/Data/Final.demultip.tagged.fastq\\F69.filter.SampE.NB01uq.fastq.gz\n",
      "F70.filter.SampH.NB01uq.fastq.gz\n",
      "F70_NB01\n",
      "Processing F70.filter.SampH.NB01uq.fastq.gz\n",
      "C:/Users/Ramin Kahidi/Bioinformatics/Telomere Analysis/Nanopore project/Data/Final.demultip.tagged.fastq\\F70.filter.SampH.NB01uq.fastq.gz\n",
      "F76.filter.NB01uq.JH150.fastq.gz\n",
      "F76_NB01\n",
      "Processing F76.filter.NB01uq.JH150.fastq.gz\n",
      "C:/Users/Ramin Kahidi/Bioinformatics/Telomere Analysis/Nanopore project/Data/Final.demultip.tagged.fastq\\F76.filter.NB01uq.JH150.fastq.gz\n",
      "F76.filter.NB15uq.JH153.fastq.gz\n",
      "F76_NB15\n",
      "Processing F76.filter.NB15uq.JH153.fastq.gz\n",
      "C:/Users/Ramin Kahidi/Bioinformatics/Telomere Analysis/Nanopore project/Data/Final.demultip.tagged.fastq\\F76.filter.NB15uq.JH153.fastq.gz\n",
      "F76.filter.NB50uq.JH151.fastq.gz\n",
      "F76_NB50\n",
      "Processing F76.filter.NB50uq.JH151.fastq.gz\n",
      "C:/Users/Ramin Kahidi/Bioinformatics/Telomere Analysis/Nanopore project/Data/Final.demultip.tagged.fastq\\F76.filter.NB50uq.JH151.fastq.gz\n",
      "F76.filter.NB66uq.JH152.fastq.gz\n",
      "F76_NB66\n",
      "Processing F76.filter.NB66uq.JH152.fastq.gz\n",
      "C:/Users/Ramin Kahidi/Bioinformatics/Telomere Analysis/Nanopore project/Data/Final.demultip.tagged.fastq\\F76.filter.NB66uq.JH152.fastq.gz\n",
      "F77.filter.NB01uq.JH154.fastq.gz\n",
      "F77_NB01\n",
      "Processing F77.filter.NB01uq.JH154.fastq.gz\n",
      "C:/Users/Ramin Kahidi/Bioinformatics/Telomere Analysis/Nanopore project/Data/Final.demultip.tagged.fastq\\F77.filter.NB01uq.JH154.fastq.gz\n",
      "F77.filter.NB15uq.JH156.fastq.gz\n",
      "F77_NB15\n",
      "Processing F77.filter.NB15uq.JH156.fastq.gz\n",
      "C:/Users/Ramin Kahidi/Bioinformatics/Telomere Analysis/Nanopore project/Data/Final.demultip.tagged.fastq\\F77.filter.NB15uq.JH156.fastq.gz\n",
      "F77.filter.NB50uq.JH163.fastq.gz\n",
      "F77_NB50\n",
      "Processing F77.filter.NB50uq.JH163.fastq.gz\n",
      "C:/Users/Ramin Kahidi/Bioinformatics/Telomere Analysis/Nanopore project/Data/Final.demultip.tagged.fastq\\F77.filter.NB50uq.JH163.fastq.gz\n",
      "F77.filter.NB66uq.JH155.fastq.gz\n",
      "F77_NB66\n",
      "Processing F77.filter.NB66uq.JH155.fastq.gz\n",
      "C:/Users/Ramin Kahidi/Bioinformatics/Telomere Analysis/Nanopore project/Data/Final.demultip.tagged.fastq\\F77.filter.NB66uq.JH155.fastq.gz\n",
      "F78.filter.NB01uq.JH157.fastq.gz\n",
      "F78_NB01\n",
      "Processing F78.filter.NB01uq.JH157.fastq.gz\n",
      "C:/Users/Ramin Kahidi/Bioinformatics/Telomere Analysis/Nanopore project/Data/Final.demultip.tagged.fastq\\F78.filter.NB01uq.JH157.fastq.gz\n",
      "F78.filter.NB15uq.JH160.fastq.gz\n",
      "F78_NB15\n",
      "Processing F78.filter.NB15uq.JH160.fastq.gz\n",
      "C:/Users/Ramin Kahidi/Bioinformatics/Telomere Analysis/Nanopore project/Data/Final.demultip.tagged.fastq\\F78.filter.NB15uq.JH160.fastq.gz\n",
      "F78.filter.NB50uq.JH159.fastq.gz\n",
      "F78_NB50\n",
      "Processing F78.filter.NB50uq.JH159.fastq.gz\n",
      "C:/Users/Ramin Kahidi/Bioinformatics/Telomere Analysis/Nanopore project/Data/Final.demultip.tagged.fastq\\F78.filter.NB50uq.JH159.fastq.gz\n",
      "F78.filter.NB66uq.JH158.fastq.gz\n",
      "F78_NB66\n",
      "Processing F78.filter.NB66uq.JH158.fastq.gz\n",
      "C:/Users/Ramin Kahidi/Bioinformatics/Telomere Analysis/Nanopore project/Data/Final.demultip.tagged.fastq\\F78.filter.NB66uq.JH158.fastq.gz\n",
      "F79.filter.NB01uq.JH171.fastq.gz\n",
      "F79_NB01\n",
      "Processing F79.filter.NB01uq.JH171.fastq.gz\n",
      "C:/Users/Ramin Kahidi/Bioinformatics/Telomere Analysis/Nanopore project/Data/Final.demultip.tagged.fastq\\F79.filter.NB01uq.JH171.fastq.gz\n",
      "F79.filter.NB15uq.JH161.fastq.gz\n",
      "F79_NB15\n",
      "Processing F79.filter.NB15uq.JH161.fastq.gz\n",
      "C:/Users/Ramin Kahidi/Bioinformatics/Telomere Analysis/Nanopore project/Data/Final.demultip.tagged.fastq\\F79.filter.NB15uq.JH161.fastq.gz\n",
      "F79.filter.NB50uq.JH172.fastq.gz\n",
      "F79_NB50\n",
      "Processing F79.filter.NB50uq.JH172.fastq.gz\n",
      "C:/Users/Ramin Kahidi/Bioinformatics/Telomere Analysis/Nanopore project/Data/Final.demultip.tagged.fastq\\F79.filter.NB50uq.JH172.fastq.gz\n",
      "F79.filter.NB66uq.JH162.fastq.gz\n",
      "F79_NB66\n",
      "Processing F79.filter.NB66uq.JH162.fastq.gz\n",
      "C:/Users/Ramin Kahidi/Bioinformatics/Telomere Analysis/Nanopore project/Data/Final.demultip.tagged.fastq\\F79.filter.NB66uq.JH162.fastq.gz\n",
      "F80.filter.NB01uq.JH167.fastq.gz\n",
      "F80_NB01\n",
      "Processing F80.filter.NB01uq.JH167.fastq.gz\n",
      "C:/Users/Ramin Kahidi/Bioinformatics/Telomere Analysis/Nanopore project/Data/Final.demultip.tagged.fastq\\F80.filter.NB01uq.JH167.fastq.gz\n",
      "F80.filter.NB15uq.JH164.fastq.gz\n",
      "F80_NB15\n",
      "Processing F80.filter.NB15uq.JH164.fastq.gz\n",
      "C:/Users/Ramin Kahidi/Bioinformatics/Telomere Analysis/Nanopore project/Data/Final.demultip.tagged.fastq\\F80.filter.NB15uq.JH164.fastq.gz\n",
      "F80.filter.NB20uq.JH169.fastq.gz\n",
      "F80_NB20\n",
      "Processing F80.filter.NB20uq.JH169.fastq.gz\n",
      "C:/Users/Ramin Kahidi/Bioinformatics/Telomere Analysis/Nanopore project/Data/Final.demultip.tagged.fastq\\F80.filter.NB20uq.JH169.fastq.gz\n",
      "F80.filter.NB50uq.JH170.fastq.gz\n",
      "F80_NB50\n",
      "Processing F80.filter.NB50uq.JH170.fastq.gz\n",
      "C:/Users/Ramin Kahidi/Bioinformatics/Telomere Analysis/Nanopore project/Data/Final.demultip.tagged.fastq\\F80.filter.NB50uq.JH170.fastq.gz\n",
      "F80.filter.NB66uq.JH165.fastq.gz\n",
      "F80_NB66\n",
      "Processing F80.filter.NB66uq.JH165.fastq.gz\n",
      "C:/Users/Ramin Kahidi/Bioinformatics/Telomere Analysis/Nanopore project/Data/Final.demultip.tagged.fastq\\F80.filter.NB66uq.JH165.fastq.gz\n",
      "F80.filter.NB68uq.JH166.fastq.gz\n",
      "F80_NB68\n",
      "Processing F80.filter.NB68uq.JH166.fastq.gz\n",
      "C:/Users/Ramin Kahidi/Bioinformatics/Telomere Analysis/Nanopore project/Data/Final.demultip.tagged.fastq\\F80.filter.NB68uq.JH166.fastq.gz\n",
      "F81.filter.NB01uq.SampF.fastq.gz\n",
      "F81_NB01\n",
      "Processing F81.filter.NB01uq.SampF.fastq.gz\n",
      "C:/Users/Ramin Kahidi/Bioinformatics/Telomere Analysis/Nanopore project/Data/Final.demultip.tagged.fastq\\F81.filter.NB01uq.SampF.fastq.gz\n",
      "F81.filter.NB50uq.SampG.fastq.gz\n",
      "F81_NB50\n",
      "Processing F81.filter.NB50uq.SampG.fastq.gz\n",
      "C:/Users/Ramin Kahidi/Bioinformatics/Telomere Analysis/Nanopore project/Data/Final.demultip.tagged.fastq\\F81.filter.NB50uq.SampG.fastq.gz\n",
      "F82.filter.NB01uq.fastq.gz\n",
      "F82_NB01\n",
      "Processing F82.filter.NB01uq.fastq.gz\n",
      "C:/Users/Ramin Kahidi/Bioinformatics/Telomere Analysis/Nanopore project/Data/Final.demultip.tagged.fastq\\F82.filter.NB01uq.fastq.gz\n",
      "F83.filter.NB01uq.fastq.gz\n",
      "F83_NB01\n",
      "Processing F83.filter.NB01uq.fastq.gz\n",
      "C:/Users/Ramin Kahidi/Bioinformatics/Telomere Analysis/Nanopore project/Data/Final.demultip.tagged.fastq\\F83.filter.NB01uq.fastq.gz\n",
      "F83.filter.NB50uq.fastq.gz\n",
      "F83_NB50\n",
      "F84.filter.NB01uq.fastq.gz\n",
      "F84_NB01\n",
      "Processing F84.filter.NB01uq.fastq.gz\n",
      "C:/Users/Ramin Kahidi/Bioinformatics/Telomere Analysis/Nanopore project/Data/Final.demultip.tagged.fastq\\F84.filter.NB01uq.fastq.gz\n",
      "F84.filter.NB50uq.fastq.gz\n",
      "F84_NB50\n",
      "F85.filter.NB01uq.fastq.gz\n",
      "F85_NB01\n",
      "Processing F85.filter.NB01uq.fastq.gz\n",
      "C:/Users/Ramin Kahidi/Bioinformatics/Telomere Analysis/Nanopore project/Data/Final.demultip.tagged.fastq\\F85.filter.NB01uq.fastq.gz\n",
      "F85.filter.NB50uq.fastq.gz\n",
      "F85_NB50\n",
      "Processing F85.filter.NB50uq.fastq.gz\n",
      "C:/Users/Ramin Kahidi/Bioinformatics/Telomere Analysis/Nanopore project/Data/Final.demultip.tagged.fastq\\F85.filter.NB50uq.fastq.gz\n",
      "F86.filter.NB01uq.fastq.gz\n",
      "F86_NB01\n",
      "Processing F86.filter.NB01uq.fastq.gz\n",
      "C:/Users/Ramin Kahidi/Bioinformatics/Telomere Analysis/Nanopore project/Data/Final.demultip.tagged.fastq\\F86.filter.NB01uq.fastq.gz\n",
      "F86.filter.NB20uq.fastq.gz\n",
      "F86_NB20\n",
      "Processing F86.filter.NB20uq.fastq.gz\n",
      "C:/Users/Ramin Kahidi/Bioinformatics/Telomere Analysis/Nanopore project/Data/Final.demultip.tagged.fastq\\F86.filter.NB20uq.fastq.gz\n",
      "F86.filter.NB50uq.fastq.gz\n",
      "F86_NB50\n",
      "Processing F86.filter.NB50uq.fastq.gz\n",
      "C:/Users/Ramin Kahidi/Bioinformatics/Telomere Analysis/Nanopore project/Data/Final.demultip.tagged.fastq\\F86.filter.NB50uq.fastq.gz\n",
      "F86.filter.NB65uq.fastq.gz\n",
      "F86_NB65\n",
      "Processing F86.filter.NB65uq.fastq.gz\n",
      "C:/Users/Ramin Kahidi/Bioinformatics/Telomere Analysis/Nanopore project/Data/Final.demultip.tagged.fastq\\F86.filter.NB65uq.fastq.gz\n",
      "F86.filter.NB66uq.fastq.gz\n",
      "F86_NB66\n",
      "Processing F86.filter.NB66uq.fastq.gz\n",
      "C:/Users/Ramin Kahidi/Bioinformatics/Telomere Analysis/Nanopore project/Data/Final.demultip.tagged.fastq\\F86.filter.NB66uq.fastq.gz\n",
      "F86.filter.NB68uq.fastq.gz\n",
      "F86_NB68\n",
      "Processing F86.filter.NB68uq.fastq.gz\n",
      "C:/Users/Ramin Kahidi/Bioinformatics/Telomere Analysis/Nanopore project/Data/Final.demultip.tagged.fastq\\F86.filter.NB68uq.fastq.gz\n",
      "F86.filter.NB70uq.fastq.gz\n",
      "F86_NB70\n",
      "Processing F86.filter.NB70uq.fastq.gz\n",
      "C:/Users/Ramin Kahidi/Bioinformatics/Telomere Analysis/Nanopore project/Data/Final.demultip.tagged.fastq\\F86.filter.NB70uq.fastq.gz\n",
      "F87.filter.NB01uq.fastq.gz\n",
      "F87_NB01\n",
      "Processing F87.filter.NB01uq.fastq.gz\n",
      "C:/Users/Ramin Kahidi/Bioinformatics/Telomere Analysis/Nanopore project/Data/Final.demultip.tagged.fastq\\F87.filter.NB01uq.fastq.gz\n",
      "F87.filter.NB20uq.fastq.gz\n",
      "F87_NB20\n",
      "Processing F87.filter.NB20uq.fastq.gz\n",
      "C:/Users/Ramin Kahidi/Bioinformatics/Telomere Analysis/Nanopore project/Data/Final.demultip.tagged.fastq\\F87.filter.NB20uq.fastq.gz\n",
      "F87.filter.NB50uq.fastq.gz\n",
      "F87_NB50\n",
      "Processing F87.filter.NB50uq.fastq.gz\n",
      "C:/Users/Ramin Kahidi/Bioinformatics/Telomere Analysis/Nanopore project/Data/Final.demultip.tagged.fastq\\F87.filter.NB50uq.fastq.gz\n",
      "F87.filter.NB65uq.fastq.gz\n",
      "F87_NB65\n",
      "Processing F87.filter.NB65uq.fastq.gz\n",
      "C:/Users/Ramin Kahidi/Bioinformatics/Telomere Analysis/Nanopore project/Data/Final.demultip.tagged.fastq\\F87.filter.NB65uq.fastq.gz\n",
      "F87.filter.NB66uq.fastq.gz\n",
      "F87_NB66\n",
      "Processing F87.filter.NB66uq.fastq.gz\n",
      "C:/Users/Ramin Kahidi/Bioinformatics/Telomere Analysis/Nanopore project/Data/Final.demultip.tagged.fastq\\F87.filter.NB66uq.fastq.gz\n",
      "F87.filter.NB67uq.fastq.gz\n",
      "F87_NB67\n",
      "Processing F87.filter.NB67uq.fastq.gz\n",
      "C:/Users/Ramin Kahidi/Bioinformatics/Telomere Analysis/Nanopore project/Data/Final.demultip.tagged.fastq\\F87.filter.NB67uq.fastq.gz\n",
      "F87.filter.NB68uq.fastq.gz\n",
      "F87_NB68\n",
      "Processing F87.filter.NB68uq.fastq.gz\n",
      "C:/Users/Ramin Kahidi/Bioinformatics/Telomere Analysis/Nanopore project/Data/Final.demultip.tagged.fastq\\F87.filter.NB68uq.fastq.gz\n",
      "F87.filter.NB69uq.fastq.gz\n",
      "F87_NB69\n",
      "Processing F87.filter.NB69uq.fastq.gz\n",
      "C:/Users/Ramin Kahidi/Bioinformatics/Telomere Analysis/Nanopore project/Data/Final.demultip.tagged.fastq\\F87.filter.NB69uq.fastq.gz\n",
      "F87.filter.NB70uq.fastq.gz\n",
      "F87_NB70\n",
      "Processing F87.filter.NB70uq.fastq.gz\n",
      "C:/Users/Ramin Kahidi/Bioinformatics/Telomere Analysis/Nanopore project/Data/Final.demultip.tagged.fastq\\F87.filter.NB70uq.fastq.gz\n",
      "F88.filter.NB01uq.fastq.gz\n",
      "F88_NB01\n",
      "Processing F88.filter.NB01uq.fastq.gz\n",
      "C:/Users/Ramin Kahidi/Bioinformatics/Telomere Analysis/Nanopore project/Data/Final.demultip.tagged.fastq\\F88.filter.NB01uq.fastq.gz\n",
      "F88.filter.NB15uq.fastq.gz\n",
      "F88_NB15\n",
      "Processing F88.filter.NB15uq.fastq.gz\n",
      "C:/Users/Ramin Kahidi/Bioinformatics/Telomere Analysis/Nanopore project/Data/Final.demultip.tagged.fastq\\F88.filter.NB15uq.fastq.gz\n",
      "F88.filter.NB19uq.fastq.gz\n",
      "F88_NB19\n",
      "Processing F88.filter.NB19uq.fastq.gz\n",
      "C:/Users/Ramin Kahidi/Bioinformatics/Telomere Analysis/Nanopore project/Data/Final.demultip.tagged.fastq\\F88.filter.NB19uq.fastq.gz\n",
      "F88.filter.NB20uq.fastq.gz\n",
      "F88_NB20\n",
      "Processing F88.filter.NB20uq.fastq.gz\n",
      "C:/Users/Ramin Kahidi/Bioinformatics/Telomere Analysis/Nanopore project/Data/Final.demultip.tagged.fastq\\F88.filter.NB20uq.fastq.gz\n",
      "F88.filter.NB50uq.fastq.gz\n",
      "F88_NB50\n",
      "Processing F88.filter.NB50uq.fastq.gz\n",
      "C:/Users/Ramin Kahidi/Bioinformatics/Telomere Analysis/Nanopore project/Data/Final.demultip.tagged.fastq\\F88.filter.NB50uq.fastq.gz\n",
      "F88.filter.NB65uq.fastq.gz\n",
      "F88_NB65\n",
      "Processing F88.filter.NB65uq.fastq.gz\n",
      "C:/Users/Ramin Kahidi/Bioinformatics/Telomere Analysis/Nanopore project/Data/Final.demultip.tagged.fastq\\F88.filter.NB65uq.fastq.gz\n",
      "F88.filter.NB66uq.fastq.gz\n",
      "F88_NB66\n",
      "Processing F88.filter.NB66uq.fastq.gz\n",
      "C:/Users/Ramin Kahidi/Bioinformatics/Telomere Analysis/Nanopore project/Data/Final.demultip.tagged.fastq\\F88.filter.NB66uq.fastq.gz\n",
      "F88.filter.NB67uq.fastq.gz\n",
      "F88_NB67\n",
      "Processing F88.filter.NB67uq.fastq.gz\n",
      "C:/Users/Ramin Kahidi/Bioinformatics/Telomere Analysis/Nanopore project/Data/Final.demultip.tagged.fastq\\F88.filter.NB67uq.fastq.gz\n",
      "F88.filter.NB68uq.fastq.gz\n",
      "F88_NB68\n",
      "Processing F88.filter.NB68uq.fastq.gz\n",
      "C:/Users/Ramin Kahidi/Bioinformatics/Telomere Analysis/Nanopore project/Data/Final.demultip.tagged.fastq\\F88.filter.NB68uq.fastq.gz\n",
      "F88.filter.NB69uq.fastq.gz\n",
      "F88_NB69\n",
      "Processing F88.filter.NB69uq.fastq.gz\n",
      "C:/Users/Ramin Kahidi/Bioinformatics/Telomere Analysis/Nanopore project/Data/Final.demultip.tagged.fastq\\F88.filter.NB69uq.fastq.gz\n",
      "F88.filter.NB70uq.fastq.gz\n",
      "F88_NB70\n",
      "Processing F88.filter.NB70uq.fastq.gz\n",
      "C:/Users/Ramin Kahidi/Bioinformatics/Telomere Analysis/Nanopore project/Data/Final.demultip.tagged.fastq\\F88.filter.NB70uq.fastq.gz\n",
      "F88.filter.NB72uq.fastq.gz\n",
      "F88_NB72\n",
      "Processing F88.filter.NB72uq.fastq.gz\n",
      "C:/Users/Ramin Kahidi/Bioinformatics/Telomere Analysis/Nanopore project/Data/Final.demultip.tagged.fastq\\F88.filter.NB72uq.fastq.gz\n",
      "F89.filter.NB01uq.fastq.gz\n",
      "F89_NB01\n",
      "Processing F89.filter.NB01uq.fastq.gz\n",
      "C:/Users/Ramin Kahidi/Bioinformatics/Telomere Analysis/Nanopore project/Data/Final.demultip.tagged.fastq\\F89.filter.NB01uq.fastq.gz\n",
      "F89.filter.NB20uq.fastq.gz\n",
      "F89_NB20\n",
      "Processing F89.filter.NB20uq.fastq.gz\n",
      "C:/Users/Ramin Kahidi/Bioinformatics/Telomere Analysis/Nanopore project/Data/Final.demultip.tagged.fastq\\F89.filter.NB20uq.fastq.gz\n",
      "F89.filter.NB50uq.fastq.gz\n",
      "F89_NB50\n",
      "Processing F89.filter.NB50uq.fastq.gz\n",
      "C:/Users/Ramin Kahidi/Bioinformatics/Telomere Analysis/Nanopore project/Data/Final.demultip.tagged.fastq\\F89.filter.NB50uq.fastq.gz\n",
      "F89.filter.NB66uq.fastq.gz\n",
      "F89_NB66\n",
      "Processing F89.filter.NB66uq.fastq.gz\n",
      "C:/Users/Ramin Kahidi/Bioinformatics/Telomere Analysis/Nanopore project/Data/Final.demultip.tagged.fastq\\F89.filter.NB66uq.fastq.gz\n",
      "F89.filter.NB68uq.fastq.gz\n",
      "F89_NB68\n",
      "Processing F89.filter.NB68uq.fastq.gz\n",
      "C:/Users/Ramin Kahidi/Bioinformatics/Telomere Analysis/Nanopore project/Data/Final.demultip.tagged.fastq\\F89.filter.NB68uq.fastq.gz\n",
      "F90.filter.NB01uq.fastq.gz\n",
      "F90_NB01\n",
      "Processing F90.filter.NB01uq.fastq.gz\n",
      "C:/Users/Ramin Kahidi/Bioinformatics/Telomere Analysis/Nanopore project/Data/Final.demultip.tagged.fastq\\F90.filter.NB01uq.fastq.gz\n",
      "F90.filter.NB20uq.fastq.gz\n",
      "F90_NB20\n",
      "Processing F90.filter.NB20uq.fastq.gz\n",
      "C:/Users/Ramin Kahidi/Bioinformatics/Telomere Analysis/Nanopore project/Data/Final.demultip.tagged.fastq\\F90.filter.NB20uq.fastq.gz\n",
      "F90.filter.NB50uq.fastq.gz\n",
      "F90_NB50\n",
      "Processing F90.filter.NB50uq.fastq.gz\n",
      "C:/Users/Ramin Kahidi/Bioinformatics/Telomere Analysis/Nanopore project/Data/Final.demultip.tagged.fastq\\F90.filter.NB50uq.fastq.gz\n",
      "F90.filter.NB66uq.fastq.gz\n",
      "F90_NB66\n",
      "Processing F90.filter.NB66uq.fastq.gz\n",
      "C:/Users/Ramin Kahidi/Bioinformatics/Telomere Analysis/Nanopore project/Data/Final.demultip.tagged.fastq\\F90.filter.NB66uq.fastq.gz\n",
      "F90.filter.NB68uq.fastq.gz\n",
      "F90_NB68\n",
      "Processing F90.filter.NB68uq.fastq.gz\n",
      "C:/Users/Ramin Kahidi/Bioinformatics/Telomere Analysis/Nanopore project/Data/Final.demultip.tagged.fastq\\F90.filter.NB68uq.fastq.gz\n",
      "F91.filter.NB01uq.fastq.gz\n",
      "F91_NB01\n",
      "Processing F91.filter.NB01uq.fastq.gz\n",
      "C:/Users/Ramin Kahidi/Bioinformatics/Telomere Analysis/Nanopore project/Data/Final.demultip.tagged.fastq\\F91.filter.NB01uq.fastq.gz\n",
      "F91.filter.NB68uq.fastq.gz\n",
      "F91_NB68\n",
      "Processing F91.filter.NB68uq.fastq.gz\n",
      "C:/Users/Ramin Kahidi/Bioinformatics/Telomere Analysis/Nanopore project/Data/Final.demultip.tagged.fastq\\F91.filter.NB68uq.fastq.gz\n",
      "F92.filter.NB01uq.fastq.gz\n",
      "F92_NB01\n",
      "Processing F92.filter.NB01uq.fastq.gz\n",
      "C:/Users/Ramin Kahidi/Bioinformatics/Telomere Analysis/Nanopore project/Data/Final.demultip.tagged.fastq\\F92.filter.NB01uq.fastq.gz\n",
      "F92.filter.NB20uq.fastq.gz\n",
      "F92_NB20\n",
      "Processing F92.filter.NB20uq.fastq.gz\n",
      "C:/Users/Ramin Kahidi/Bioinformatics/Telomere Analysis/Nanopore project/Data/Final.demultip.tagged.fastq\\F92.filter.NB20uq.fastq.gz\n",
      "F92.filter.NB65uq.fastq.gz\n",
      "F92_NB65\n",
      "Processing F92.filter.NB65uq.fastq.gz\n",
      "C:/Users/Ramin Kahidi/Bioinformatics/Telomere Analysis/Nanopore project/Data/Final.demultip.tagged.fastq\\F92.filter.NB65uq.fastq.gz\n",
      "F92.filter.NB66uq.fastq.gz\n",
      "F92_NB66\n",
      "Processing F92.filter.NB66uq.fastq.gz\n",
      "C:/Users/Ramin Kahidi/Bioinformatics/Telomere Analysis/Nanopore project/Data/Final.demultip.tagged.fastq\\F92.filter.NB66uq.fastq.gz\n",
      "F92.filter.NB68uq.fastq.gz\n",
      "F92_NB68\n",
      "Processing F92.filter.NB68uq.fastq.gz\n",
      "C:/Users/Ramin Kahidi/Bioinformatics/Telomere Analysis/Nanopore project/Data/Final.demultip.tagged.fastq\\F92.filter.NB68uq.fastq.gz\n",
      "F92.filter.NB70uq.fastq.gz\n",
      "F92_NB70\n",
      "Processing F92.filter.NB70uq.fastq.gz\n",
      "C:/Users/Ramin Kahidi/Bioinformatics/Telomere Analysis/Nanopore project/Data/Final.demultip.tagged.fastq\\F92.filter.NB70uq.fastq.gz\n",
      "F93.filter.NB01uq.fastq.gz\n",
      "F93_NB01\n",
      "Processing F93.filter.NB01uq.fastq.gz\n",
      "C:/Users/Ramin Kahidi/Bioinformatics/Telomere Analysis/Nanopore project/Data/Final.demultip.tagged.fastq\\F93.filter.NB01uq.fastq.gz\n",
      "F93.filter.NB50uq.fastq.gz\n",
      "F93_NB50\n",
      "Processing F93.filter.NB50uq.fastq.gz\n",
      "C:/Users/Ramin Kahidi/Bioinformatics/Telomere Analysis/Nanopore project/Data/Final.demultip.tagged.fastq\\F93.filter.NB50uq.fastq.gz\n",
      "F93.filter.NB68uq.fastq.gz\n",
      "F93_NB68\n",
      "Processing F93.filter.NB68uq.fastq.gz\n",
      "C:/Users/Ramin Kahidi/Bioinformatics/Telomere Analysis/Nanopore project/Data/Final.demultip.tagged.fastq\\F93.filter.NB68uq.fastq.gz\n",
      "F94.filter.NB01uq.fastq.gz\n",
      "F94_NB01\n",
      "Processing F94.filter.NB01uq.fastq.gz\n",
      "C:/Users/Ramin Kahidi/Bioinformatics/Telomere Analysis/Nanopore project/Data/Final.demultip.tagged.fastq\\F94.filter.NB01uq.fastq.gz\n",
      "F94.filter.NB50uq.fastq.gz\n",
      "F94_NB50\n",
      "Processing F94.filter.NB50uq.fastq.gz\n",
      "C:/Users/Ramin Kahidi/Bioinformatics/Telomere Analysis/Nanopore project/Data/Final.demultip.tagged.fastq\\F94.filter.NB50uq.fastq.gz\n",
      "F94.filter.NB68uq.fastq.gz\n",
      "F94_NB68\n",
      "Processing F94.filter.NB68uq.fastq.gz\n",
      "C:/Users/Ramin Kahidi/Bioinformatics/Telomere Analysis/Nanopore project/Data/Final.demultip.tagged.fastq\\F94.filter.NB68uq.fastq.gz\n",
      "F95.filter.NB01uq.fastq.gz\n",
      "F95_NB01\n",
      "Processing F95.filter.NB01uq.fastq.gz\n",
      "C:/Users/Ramin Kahidi/Bioinformatics/Telomere Analysis/Nanopore project/Data/Final.demultip.tagged.fastq\\F95.filter.NB01uq.fastq.gz\n",
      "F95.filter.NB50uq.fastq.gz\n",
      "F95_NB50\n",
      "Processing F95.filter.NB50uq.fastq.gz\n",
      "C:/Users/Ramin Kahidi/Bioinformatics/Telomere Analysis/Nanopore project/Data/Final.demultip.tagged.fastq\\F95.filter.NB50uq.fastq.gz\n",
      "F95.filter.NB68uq.fastq.gz\n",
      "F95_NB68\n",
      "Processing F95.filter.NB68uq.fastq.gz\n",
      "C:/Users/Ramin Kahidi/Bioinformatics/Telomere Analysis/Nanopore project/Data/Final.demultip.tagged.fastq\\F95.filter.NB68uq.fastq.gz\n",
      "F96.filter.NB01uq.fastq.gz\n",
      "F96_NB01\n",
      "Processing F96.filter.NB01uq.fastq.gz\n",
      "C:/Users/Ramin Kahidi/Bioinformatics/Telomere Analysis/Nanopore project/Data/Final.demultip.tagged.fastq\\F96.filter.NB01uq.fastq.gz\n",
      "F96.filter.NB50uq.fastq.gz\n",
      "F96_NB50\n",
      "Processing F96.filter.NB50uq.fastq.gz\n",
      "C:/Users/Ramin Kahidi/Bioinformatics/Telomere Analysis/Nanopore project/Data/Final.demultip.tagged.fastq\\F96.filter.NB50uq.fastq.gz\n",
      "F96.filter.NB68uq.fastq.gz\n",
      "F96_NB68\n",
      "Processing F96.filter.NB68uq.fastq.gz\n",
      "C:/Users/Ramin Kahidi/Bioinformatics/Telomere Analysis/Nanopore project/Data/Final.demultip.tagged.fastq\\F96.filter.NB68uq.fastq.gz\n",
      "F97.filter.NB01uq.fastq.gz\n",
      "F97_NB01\n",
      "Processing F97.filter.NB01uq.fastq.gz\n",
      "C:/Users/Ramin Kahidi/Bioinformatics/Telomere Analysis/Nanopore project/Data/Final.demultip.tagged.fastq\\F97.filter.NB01uq.fastq.gz\n",
      "F97.filter.NB50uq.fastq.gz\n",
      "F97_NB50\n",
      "Processing F97.filter.NB50uq.fastq.gz\n",
      "C:/Users/Ramin Kahidi/Bioinformatics/Telomere Analysis/Nanopore project/Data/Final.demultip.tagged.fastq\\F97.filter.NB50uq.fastq.gz\n",
      "F98.filter.NB01uq.fastq.gz\n",
      "F98_NB01\n",
      "Processing F98.filter.NB01uq.fastq.gz\n",
      "C:/Users/Ramin Kahidi/Bioinformatics/Telomere Analysis/Nanopore project/Data/Final.demultip.tagged.fastq\\F98.filter.NB01uq.fastq.gz\n",
      "F98.filter.NB50uq.fastq.gz\n",
      "F98_NB50\n",
      "Processing F98.filter.NB50uq.fastq.gz\n",
      "C:/Users/Ramin Kahidi/Bioinformatics/Telomere Analysis/Nanopore project/Data/Final.demultip.tagged.fastq\\F98.filter.NB50uq.fastq.gz\n",
      "F99.JH166.ClaI.NB65uq.fastq.gz\n",
      "F99_NB65\n",
      "Processing F99.JH166.ClaI.NB65uq.fastq.gz\n",
      "C:/Users/Ramin Kahidi/Bioinformatics/Telomere Analysis/Nanopore project/Data/Final.demultip.tagged.fastq\\F99.JH166.ClaI.NB65uq.fastq.gz\n",
      "F99.JH166.PipShear.NB50uq.fastq.gz\n",
      "F99_NB50\n",
      "Processing F99.JH166.PipShear.NB50uq.fastq.gz\n",
      "C:/Users/Ramin Kahidi/Bioinformatics/Telomere Analysis/Nanopore project/Data/Final.demultip.tagged.fastq\\F99.JH166.PipShear.NB50uq.fastq.gz\n",
      "F99.JH39.4.highDNA.NB01uq.fastq.gz\n",
      "F99_NB01\n",
      "Processing F99.JH39.4.highDNA.NB01uq.fastq.gz\n",
      "C:/Users/Ramin Kahidi/Bioinformatics/Telomere Analysis/Nanopore project/Data/Final.demultip.tagged.fastq\\F99.JH39.4.highDNA.NB01uq.fastq.gz\n",
      "F99.JH39.lowDNA.NB68uq.fastq.gz\n",
      "F99_NB68\n",
      "Processing F99.JH39.lowDNA.NB68uq.fastq.gz\n",
      "C:/Users/Ramin Kahidi/Bioinformatics/Telomere Analysis/Nanopore project/Data/Final.demultip.tagged.fastq\\F99.JH39.lowDNA.NB68uq.fastq.gz\n",
      "_README.txt\n",
      "F20.JH39.1ug.NB88uq.fastq.gz\n",
      "F20_NB88\n",
      "F20.JH39.4ug.NB50uq.fastq.gz\n",
      "F20_NB50\n",
      "F22.JH39.280ul.NB88uq.fastq.gz\n",
      "F22_NB88\n",
      "F22.JH39.30ul.NB50uq.fastq.gz\n",
      "F22_NB50\n",
      "F24.JH39.1ugRxn120uL.NB68uq.fastq.gz\n",
      "F24_NB68\n",
      "F24.JH39.1ugRxn30uL.NB88uq.fastq.gz\n",
      "F24_NB88\n",
      "F24.JH39.4ugRxn120uL.NB50uq.fastq.gz\n",
      "F24_NB50\n",
      "F52.NB01uq.fastq.gz\n",
      "F52_NB01\n",
      "F52.NB02uq.fastq.gz\n",
      "F52_NB02\n",
      "F52.NB15uq.fastq.gz\n",
      "F52_NB15\n",
      "F52.NB19uq.fastq.gz\n",
      "F52_NB19\n",
      "F52.NB20uq.fastq.gz\n",
      "F52_NB20\n",
      "F52.NB50uq.fastq.gz\n",
      "F52_NB50\n",
      "F52.NB65uq.fastq.gz\n",
      "F52_NB65\n",
      "F52.NB66uq.fastq.gz\n",
      "F52_NB66\n",
      "F52.NB67uq.fastq.gz\n",
      "F52_NB67\n",
      "F52.NB68uq.fastq.gz\n",
      "F52_NB68\n",
      "F52.NB69uq.fastq.gz\n",
      "F52_NB69\n",
      "F52.NB70uq.fastq.gz\n",
      "F52_NB70\n",
      "F52.NB72uq.fastq.gz\n",
      "F52_NB72\n",
      "F52.NB88uq.fastq.gz\n",
      "F52_NB88\n",
      "F68.NB01uq.fastq.gz\n",
      "F68_NB01\n",
      "F68.NB15uq.fastq.gz\n",
      "F68_NB15\n",
      "F68.NB50uq.fastq.gz\n",
      "F68_NB50\n",
      "F68.NB66uq.fastq.gz\n",
      "F68_NB66\n",
      "F68.NB68uq.fastq.gz\n",
      "F68_NB68\n",
      "F61.total.NB01uq.JH127.fastq.gz\n",
      "F61_NB01\n",
      "F61.total.NB02uq.JH128.fastq.gz\n",
      "F61_NB02\n",
      "F61.total.NB15uq.JH131.fastq.gz\n",
      "F61_NB15\n",
      "F61.total.NB50uq.JH129.fastq.gz\n",
      "F61_NB50\n",
      "F61.total.NB66uq.JH130.fastq.gz\n",
      "F61_NB66\n",
      "F62.filter.NB01uq.fastq.gz\n",
      "F62_NB01\n",
      "F62.filter.NB02uq.fastq.gz\n",
      "F62_NB02\n",
      "F62.filter.NB15uq.fastq.gz\n",
      "F62_NB15\n",
      "F62.filter.NB50uq.fastq.gz\n",
      "F62_NB50\n",
      "F62.filter.NB66uq.fastq.gz\n",
      "F62_NB66\n"
     ]
    }
   ],
   "source": [
    "# This section will read in fastq files and extract the sequences for each read\n",
    "\n",
    "# fastqReadDir = \"../../Data/Final.demultip.tagged.fastq\"\n",
    "fastqReadDir = \"C:/Users/Ramin Kahidi/Bioinformatics/Telomere Analysis/Nanopore project/Data/Final.demultip.tagged.fastq\"\n",
    "\n",
    "for root, dirs, files in os.walk(fastqReadDir):\n",
    "    for filename in files:\n",
    "        print(filename)\n",
    "        if not filename.endswith(\".gz\") and not filename.endswith(\".fastq\") or \"AG\" in filename:\n",
    "            continue\n",
    "\n",
    "        sampleKey = getSampleKeyFromFilename(filename)\n",
    "        print(sampleKey)\n",
    "\n",
    "        if sampleKey not in sampleQnames.keys():\n",
    "            continue\n",
    "        print(f\"Processing {filename}\")\n",
    "        sampleDf = sampleQnames[sampleKey]\n",
    "\n",
    "        qnameTeloValues = []\n",
    "        file = os.path.join(root, filename)\n",
    "        print(file)\n",
    "        if filename.endswith(\"fastq.gz\"):\n",
    "            with gzip.open(file,\"rt\") as handle:\n",
    "                records = SeqIO.parse(handle,\"fastq\")\n",
    "                for record in records:\n",
    "                    if record.id not in sampleDf[\"qname\"].tolist():\n",
    "                        continue\n",
    "                    qnameTeloValues.append([record.id, record.seq])\n",
    "        elif filename.endswith(\"fastq\"):\n",
    "            for record in SeqIO.parse(file,\"fastq\"):\n",
    "                if record.id not in sampleDf[\"qname\"].tolist():\n",
    "                    continue\n",
    "                qnameTeloValues.append([record.id, record.seq])\n",
    "        qnameTeloValuesDf = pd.DataFrame(qnameTeloValues, columns = [\"qname\", \"seq\"])\n",
    "        sampleQnames[sampleKey] = pd.merge(sampleDf, qnameTeloValuesDf, on='qname', how='left')\n",
    "        # ********************************************************************************************************************\n",
    "        # Uncomment the following line when testing to break after the first file\n",
    "        # break\n",
    "        # ********************************************************************************************************************\n"
   ]
  },
  {
   "cell_type": "markdown",
   "metadata": {},
   "source": [
    "Processing the data"
   ]
  },
  {
   "cell_type": "code",
   "execution_count": 5,
   "metadata": {},
   "outputs": [
    {
     "name": "stdout",
     "output_type": "stream",
     "text": [
      "[]\n"
     ]
    }
   ],
   "source": [
    "# For each table in sampleQnames, remove rows with NaN in seq column\n",
    "# This is because some reads may not have been present in the fastq files\n",
    "popKeys = []\n",
    "sampleQnamesNan = {}\n",
    "for sampleKey in sampleQnames.keys():\n",
    "    # print(sampleKey)\n",
    "    sampleDf = sampleQnames[sampleKey]\n",
    "    if \"seq\" not in sampleDf.keys():\n",
    "        popKeys.append(sampleKey)\n",
    "        continue\n",
    "    # print(len(sampleDf))\n",
    "    for index, row in sampleDf.iterrows():\n",
    "        if row[\"seq\"] is np.nan:\n",
    "            if sampleKey not in sampleQnamesNan.keys():\n",
    "                sampleQnamesNan[sampleKey] = [row]\n",
    "            else:\n",
    "                sampleQnamesNan[sampleKey].append(row)\n",
    "            sampleDf.drop(index, inplace=True)\n",
    "\n",
    "print(popKeys)\n",
    "for key in popKeys:\n",
    "    sampleQnames.pop(key)\n"
   ]
  },
  {
   "cell_type": "code",
   "execution_count": 6,
   "metadata": {},
   "outputs": [],
   "source": [
    "# Find any duplicated qnames in the tables:\n",
    "# No output from this cell is good. It means there are no duplicated qnames.\n",
    "for sampleKey in sampleQnames.keys():\n",
    "    sampleDf = sampleQnames[sampleKey]\n",
    "    # print out any duplicates in the qname column\n",
    "    dupQnames = sampleDf[sampleDf.duplicated(['qname'])][\"qname\"].tolist()\n",
    "    if len(dupQnames) > 0:\n",
    "        # sort by qname\n",
    "        print(sampleKey)\n",
    "        sortedDf = sampleDf.sort_values(by=['qname'])\n",
    "        print(sortedDf)"
   ]
  },
  {
   "cell_type": "markdown",
   "metadata": {},
   "source": [
    "Run TeloBP on the data"
   ]
  },
  {
   "cell_type": "code",
   "execution_count": 7,
   "metadata": {},
   "outputs": [
    {
     "name": "stdout",
     "output_type": "stream",
     "text": [
      "INFO: Pandarallel will run on 6 workers.\n",
      "INFO: Pandarallel will use standard multiprocessing data transfer (pipe) to transfer data between the main process and workers.\n",
      "\n",
      "WARNING: You are on Windows. If you detect any issue with pandarallel, be sure you checked out the Troubleshooting page:\n",
      "https://nalepae.github.io/pandarallel/troubleshooting/\n"
     ]
    },
    {
     "data": {
      "application/vnd.jupyter.widget-view+json": {
       "model_id": "7eeb8eddf2c0474e9c9ae9f2cf058e40",
       "version_major": 2,
       "version_minor": 0
      },
      "text/plain": [
       "VBox(children=(HBox(children=(IntProgress(value=0, description='0.00%', max=423), Label(value='0 / 423'))), HB…"
      ]
     },
     "metadata": {},
     "output_type": "display_data"
    },
    {
     "name": "stdout",
     "output_type": "stream",
     "text": [
      "INFO: Pandarallel will run on 6 workers.\n",
      "INFO: Pandarallel will use standard multiprocessing data transfer (pipe) to transfer data between the main process and workers.\n",
      "\n",
      "WARNING: You are on Windows. If you detect any issue with pandarallel, be sure you checked out the Troubleshooting page:\n",
      "https://nalepae.github.io/pandarallel/troubleshooting/\n"
     ]
    },
    {
     "data": {
      "application/vnd.jupyter.widget-view+json": {
       "model_id": "d51b85e746d04e69b0e866f91be31425",
       "version_major": 2,
       "version_minor": 0
      },
      "text/plain": [
       "VBox(children=(HBox(children=(IntProgress(value=0, description='0.00%', max=680), Label(value='0 / 680'))), HB…"
      ]
     },
     "metadata": {},
     "output_type": "display_data"
    },
    {
     "name": "stdout",
     "output_type": "stream",
     "text": [
      "INFO: Pandarallel will run on 6 workers.\n",
      "INFO: Pandarallel will use standard multiprocessing data transfer (pipe) to transfer data between the main process and workers.\n",
      "\n",
      "WARNING: You are on Windows. If you detect any issue with pandarallel, be sure you checked out the Troubleshooting page:\n",
      "https://nalepae.github.io/pandarallel/troubleshooting/\n"
     ]
    },
    {
     "data": {
      "application/vnd.jupyter.widget-view+json": {
       "model_id": "f7684dfdb6e64e9d897ffc61fd1e22b7",
       "version_major": 2,
       "version_minor": 0
      },
      "text/plain": [
       "VBox(children=(HBox(children=(IntProgress(value=0, description='0.00%', max=503), Label(value='0 / 503'))), HB…"
      ]
     },
     "metadata": {},
     "output_type": "display_data"
    },
    {
     "name": "stdout",
     "output_type": "stream",
     "text": [
      "INFO: Pandarallel will run on 6 workers.\n",
      "INFO: Pandarallel will use standard multiprocessing data transfer (pipe) to transfer data between the main process and workers.\n",
      "\n",
      "WARNING: You are on Windows. If you detect any issue with pandarallel, be sure you checked out the Troubleshooting page:\n",
      "https://nalepae.github.io/pandarallel/troubleshooting/\n"
     ]
    },
    {
     "data": {
      "application/vnd.jupyter.widget-view+json": {
       "model_id": "cb85738d852342b097a3195bc339ee69",
       "version_major": 2,
       "version_minor": 0
      },
      "text/plain": [
       "VBox(children=(HBox(children=(IntProgress(value=0, description='0.00%', max=941), Label(value='0 / 941'))), HB…"
      ]
     },
     "metadata": {},
     "output_type": "display_data"
    },
    {
     "name": "stdout",
     "output_type": "stream",
     "text": [
      "INFO: Pandarallel will run on 6 workers.\n",
      "INFO: Pandarallel will use standard multiprocessing data transfer (pipe) to transfer data between the main process and workers.\n",
      "\n",
      "WARNING: You are on Windows. If you detect any issue with pandarallel, be sure you checked out the Troubleshooting page:\n",
      "https://nalepae.github.io/pandarallel/troubleshooting/\n"
     ]
    },
    {
     "data": {
      "application/vnd.jupyter.widget-view+json": {
       "model_id": "49cefd1f903b4a93923f4ba5e020327d",
       "version_major": 2,
       "version_minor": 0
      },
      "text/plain": [
       "VBox(children=(HBox(children=(IntProgress(value=0, description='0.00%', max=1117), Label(value='0 / 1117'))), …"
      ]
     },
     "metadata": {},
     "output_type": "display_data"
    },
    {
     "name": "stdout",
     "output_type": "stream",
     "text": [
      "INFO: Pandarallel will run on 6 workers.\n",
      "INFO: Pandarallel will use standard multiprocessing data transfer (pipe) to transfer data between the main process and workers.\n",
      "\n",
      "WARNING: You are on Windows. If you detect any issue with pandarallel, be sure you checked out the Troubleshooting page:\n",
      "https://nalepae.github.io/pandarallel/troubleshooting/\n"
     ]
    },
    {
     "data": {
      "application/vnd.jupyter.widget-view+json": {
       "model_id": "dc545172b47949f08cfc952a16ca9576",
       "version_major": 2,
       "version_minor": 0
      },
      "text/plain": [
       "VBox(children=(HBox(children=(IntProgress(value=0, description='0.00%', max=1660), Label(value='0 / 1660'))), …"
      ]
     },
     "metadata": {},
     "output_type": "display_data"
    },
    {
     "name": "stdout",
     "output_type": "stream",
     "text": [
      "INFO: Pandarallel will run on 6 workers.\n",
      "INFO: Pandarallel will use standard multiprocessing data transfer (pipe) to transfer data between the main process and workers.\n",
      "\n",
      "WARNING: You are on Windows. If you detect any issue with pandarallel, be sure you checked out the Troubleshooting page:\n",
      "https://nalepae.github.io/pandarallel/troubleshooting/\n"
     ]
    },
    {
     "data": {
      "application/vnd.jupyter.widget-view+json": {
       "model_id": "b7522aa6202e4fe0a1a56f75def168dc",
       "version_major": 2,
       "version_minor": 0
      },
      "text/plain": [
       "VBox(children=(HBox(children=(IntProgress(value=0, description='0.00%', max=1226), Label(value='0 / 1226'))), …"
      ]
     },
     "metadata": {},
     "output_type": "display_data"
    },
    {
     "name": "stdout",
     "output_type": "stream",
     "text": [
      "INFO: Pandarallel will run on 6 workers.\n",
      "INFO: Pandarallel will use standard multiprocessing data transfer (pipe) to transfer data between the main process and workers.\n",
      "\n",
      "WARNING: You are on Windows. If you detect any issue with pandarallel, be sure you checked out the Troubleshooting page:\n",
      "https://nalepae.github.io/pandarallel/troubleshooting/\n"
     ]
    },
    {
     "data": {
      "application/vnd.jupyter.widget-view+json": {
       "model_id": "44244a62680e4f9db589cba993487b2c",
       "version_major": 2,
       "version_minor": 0
      },
      "text/plain": [
       "VBox(children=(HBox(children=(IntProgress(value=0, description='0.00%', max=1245), Label(value='0 / 1245'))), …"
      ]
     },
     "metadata": {},
     "output_type": "display_data"
    },
    {
     "name": "stdout",
     "output_type": "stream",
     "text": [
      "INFO: Pandarallel will run on 6 workers.\n",
      "INFO: Pandarallel will use standard multiprocessing data transfer (pipe) to transfer data between the main process and workers.\n",
      "\n",
      "WARNING: You are on Windows. If you detect any issue with pandarallel, be sure you checked out the Troubleshooting page:\n",
      "https://nalepae.github.io/pandarallel/troubleshooting/\n"
     ]
    },
    {
     "data": {
      "application/vnd.jupyter.widget-view+json": {
       "model_id": "e7adb14f72b14996a4567cb940561312",
       "version_major": 2,
       "version_minor": 0
      },
      "text/plain": [
       "VBox(children=(HBox(children=(IntProgress(value=0, description='0.00%', max=1129), Label(value='0 / 1129'))), …"
      ]
     },
     "metadata": {},
     "output_type": "display_data"
    },
    {
     "name": "stdout",
     "output_type": "stream",
     "text": [
      "INFO: Pandarallel will run on 6 workers.\n",
      "INFO: Pandarallel will use standard multiprocessing data transfer (pipe) to transfer data between the main process and workers.\n",
      "\n",
      "WARNING: You are on Windows. If you detect any issue with pandarallel, be sure you checked out the Troubleshooting page:\n",
      "https://nalepae.github.io/pandarallel/troubleshooting/\n"
     ]
    },
    {
     "data": {
      "application/vnd.jupyter.widget-view+json": {
       "model_id": "aca7220c6db746ce8cc281bf861f7615",
       "version_major": 2,
       "version_minor": 0
      },
      "text/plain": [
       "VBox(children=(HBox(children=(IntProgress(value=0, description='0.00%', max=1307), Label(value='0 / 1307'))), …"
      ]
     },
     "metadata": {},
     "output_type": "display_data"
    },
    {
     "name": "stdout",
     "output_type": "stream",
     "text": [
      "INFO: Pandarallel will run on 6 workers.\n",
      "INFO: Pandarallel will use standard multiprocessing data transfer (pipe) to transfer data between the main process and workers.\n",
      "\n",
      "WARNING: You are on Windows. If you detect any issue with pandarallel, be sure you checked out the Troubleshooting page:\n",
      "https://nalepae.github.io/pandarallel/troubleshooting/\n"
     ]
    },
    {
     "data": {
      "application/vnd.jupyter.widget-view+json": {
       "model_id": "36f59ad9e1674b8d8a34218c05cff1e8",
       "version_major": 2,
       "version_minor": 0
      },
      "text/plain": [
       "VBox(children=(HBox(children=(IntProgress(value=0, description='0.00%', max=1244), Label(value='0 / 1244'))), …"
      ]
     },
     "metadata": {},
     "output_type": "display_data"
    },
    {
     "name": "stdout",
     "output_type": "stream",
     "text": [
      "INFO: Pandarallel will run on 6 workers.\n",
      "INFO: Pandarallel will use standard multiprocessing data transfer (pipe) to transfer data between the main process and workers.\n",
      "\n",
      "WARNING: You are on Windows. If you detect any issue with pandarallel, be sure you checked out the Troubleshooting page:\n",
      "https://nalepae.github.io/pandarallel/troubleshooting/\n"
     ]
    },
    {
     "data": {
      "application/vnd.jupyter.widget-view+json": {
       "model_id": "92011f54228945faa9cbea8e8506845c",
       "version_major": 2,
       "version_minor": 0
      },
      "text/plain": [
       "VBox(children=(HBox(children=(IntProgress(value=0, description='0.00%', max=1192), Label(value='0 / 1192'))), …"
      ]
     },
     "metadata": {},
     "output_type": "display_data"
    },
    {
     "name": "stdout",
     "output_type": "stream",
     "text": [
      "INFO: Pandarallel will run on 6 workers.\n",
      "INFO: Pandarallel will use standard multiprocessing data transfer (pipe) to transfer data between the main process and workers.\n",
      "\n",
      "WARNING: You are on Windows. If you detect any issue with pandarallel, be sure you checked out the Troubleshooting page:\n",
      "https://nalepae.github.io/pandarallel/troubleshooting/\n"
     ]
    },
    {
     "data": {
      "application/vnd.jupyter.widget-view+json": {
       "model_id": "2b72b57c51c54b4ead330ff38095bcb2",
       "version_major": 2,
       "version_minor": 0
      },
      "text/plain": [
       "VBox(children=(HBox(children=(IntProgress(value=0, description='0.00%', max=1242), Label(value='0 / 1242'))), …"
      ]
     },
     "metadata": {},
     "output_type": "display_data"
    },
    {
     "name": "stdout",
     "output_type": "stream",
     "text": [
      "INFO: Pandarallel will run on 6 workers.\n",
      "INFO: Pandarallel will use standard multiprocessing data transfer (pipe) to transfer data between the main process and workers.\n",
      "\n",
      "WARNING: You are on Windows. If you detect any issue with pandarallel, be sure you checked out the Troubleshooting page:\n",
      "https://nalepae.github.io/pandarallel/troubleshooting/\n"
     ]
    },
    {
     "data": {
      "application/vnd.jupyter.widget-view+json": {
       "model_id": "504eba8004c04730ab1eb1eeeca415f0",
       "version_major": 2,
       "version_minor": 0
      },
      "text/plain": [
       "VBox(children=(HBox(children=(IntProgress(value=0, description='0.00%', max=1117), Label(value='0 / 1117'))), …"
      ]
     },
     "metadata": {},
     "output_type": "display_data"
    },
    {
     "name": "stdout",
     "output_type": "stream",
     "text": [
      "INFO: Pandarallel will run on 6 workers.\n",
      "INFO: Pandarallel will use standard multiprocessing data transfer (pipe) to transfer data between the main process and workers.\n",
      "\n",
      "WARNING: You are on Windows. If you detect any issue with pandarallel, be sure you checked out the Troubleshooting page:\n",
      "https://nalepae.github.io/pandarallel/troubleshooting/\n"
     ]
    },
    {
     "data": {
      "application/vnd.jupyter.widget-view+json": {
       "model_id": "eb727678695f4601a80efec08b4a6dd8",
       "version_major": 2,
       "version_minor": 0
      },
      "text/plain": [
       "VBox(children=(HBox(children=(IntProgress(value=0, description='0.00%', max=1407), Label(value='0 / 1407'))), …"
      ]
     },
     "metadata": {},
     "output_type": "display_data"
    },
    {
     "name": "stdout",
     "output_type": "stream",
     "text": [
      "INFO: Pandarallel will run on 6 workers.\n",
      "INFO: Pandarallel will use standard multiprocessing data transfer (pipe) to transfer data between the main process and workers.\n",
      "\n",
      "WARNING: You are on Windows. If you detect any issue with pandarallel, be sure you checked out the Troubleshooting page:\n",
      "https://nalepae.github.io/pandarallel/troubleshooting/\n"
     ]
    },
    {
     "data": {
      "application/vnd.jupyter.widget-view+json": {
       "model_id": "c5bc84f40712460bb444d3a254ad2a11",
       "version_major": 2,
       "version_minor": 0
      },
      "text/plain": [
       "VBox(children=(HBox(children=(IntProgress(value=0, description='0.00%', max=769), Label(value='0 / 769'))), HB…"
      ]
     },
     "metadata": {},
     "output_type": "display_data"
    },
    {
     "name": "stdout",
     "output_type": "stream",
     "text": [
      "INFO: Pandarallel will run on 6 workers.\n",
      "INFO: Pandarallel will use standard multiprocessing data transfer (pipe) to transfer data between the main process and workers.\n",
      "\n",
      "WARNING: You are on Windows. If you detect any issue with pandarallel, be sure you checked out the Troubleshooting page:\n",
      "https://nalepae.github.io/pandarallel/troubleshooting/\n"
     ]
    },
    {
     "data": {
      "application/vnd.jupyter.widget-view+json": {
       "model_id": "f2c53277859349f2a88538d100047ca7",
       "version_major": 2,
       "version_minor": 0
      },
      "text/plain": [
       "VBox(children=(HBox(children=(IntProgress(value=0, description='0.00%', max=969), Label(value='0 / 969'))), HB…"
      ]
     },
     "metadata": {},
     "output_type": "display_data"
    },
    {
     "name": "stdout",
     "output_type": "stream",
     "text": [
      "INFO: Pandarallel will run on 6 workers.\n",
      "INFO: Pandarallel will use standard multiprocessing data transfer (pipe) to transfer data between the main process and workers.\n",
      "\n",
      "WARNING: You are on Windows. If you detect any issue with pandarallel, be sure you checked out the Troubleshooting page:\n",
      "https://nalepae.github.io/pandarallel/troubleshooting/\n"
     ]
    },
    {
     "data": {
      "application/vnd.jupyter.widget-view+json": {
       "model_id": "47272158142e4f249d178f6020f8d71d",
       "version_major": 2,
       "version_minor": 0
      },
      "text/plain": [
       "VBox(children=(HBox(children=(IntProgress(value=0, description='0.00%', max=708), Label(value='0 / 708'))), HB…"
      ]
     },
     "metadata": {},
     "output_type": "display_data"
    },
    {
     "name": "stdout",
     "output_type": "stream",
     "text": [
      "INFO: Pandarallel will run on 6 workers.\n",
      "INFO: Pandarallel will use standard multiprocessing data transfer (pipe) to transfer data between the main process and workers.\n",
      "\n",
      "WARNING: You are on Windows. If you detect any issue with pandarallel, be sure you checked out the Troubleshooting page:\n",
      "https://nalepae.github.io/pandarallel/troubleshooting/\n"
     ]
    },
    {
     "data": {
      "application/vnd.jupyter.widget-view+json": {
       "model_id": "7d7267cae9ce4660b7223e7a2f13edd8",
       "version_major": 2,
       "version_minor": 0
      },
      "text/plain": [
       "VBox(children=(HBox(children=(IntProgress(value=0, description='0.00%', max=681), Label(value='0 / 681'))), HB…"
      ]
     },
     "metadata": {},
     "output_type": "display_data"
    },
    {
     "name": "stdout",
     "output_type": "stream",
     "text": [
      "INFO: Pandarallel will run on 6 workers.\n",
      "INFO: Pandarallel will use standard multiprocessing data transfer (pipe) to transfer data between the main process and workers.\n",
      "\n",
      "WARNING: You are on Windows. If you detect any issue with pandarallel, be sure you checked out the Troubleshooting page:\n",
      "https://nalepae.github.io/pandarallel/troubleshooting/\n"
     ]
    },
    {
     "data": {
      "application/vnd.jupyter.widget-view+json": {
       "model_id": "cf57fd159137486490236c6f51e8e84e",
       "version_major": 2,
       "version_minor": 0
      },
      "text/plain": [
       "VBox(children=(HBox(children=(IntProgress(value=0, description='0.00%', max=842), Label(value='0 / 842'))), HB…"
      ]
     },
     "metadata": {},
     "output_type": "display_data"
    },
    {
     "name": "stdout",
     "output_type": "stream",
     "text": [
      "INFO: Pandarallel will run on 6 workers.\n",
      "INFO: Pandarallel will use standard multiprocessing data transfer (pipe) to transfer data between the main process and workers.\n",
      "\n",
      "WARNING: You are on Windows. If you detect any issue with pandarallel, be sure you checked out the Troubleshooting page:\n",
      "https://nalepae.github.io/pandarallel/troubleshooting/\n"
     ]
    },
    {
     "data": {
      "application/vnd.jupyter.widget-view+json": {
       "model_id": "becb579969604f2382131a71cc55ff6e",
       "version_major": 2,
       "version_minor": 0
      },
      "text/plain": [
       "VBox(children=(HBox(children=(IntProgress(value=0, description='0.00%', max=835), Label(value='0 / 835'))), HB…"
      ]
     },
     "metadata": {},
     "output_type": "display_data"
    },
    {
     "name": "stdout",
     "output_type": "stream",
     "text": [
      "INFO: Pandarallel will run on 6 workers.\n",
      "INFO: Pandarallel will use standard multiprocessing data transfer (pipe) to transfer data between the main process and workers.\n",
      "\n",
      "WARNING: You are on Windows. If you detect any issue with pandarallel, be sure you checked out the Troubleshooting page:\n",
      "https://nalepae.github.io/pandarallel/troubleshooting/\n"
     ]
    },
    {
     "data": {
      "application/vnd.jupyter.widget-view+json": {
       "model_id": "f0fac95810354f209fc1c1a214e958dc",
       "version_major": 2,
       "version_minor": 0
      },
      "text/plain": [
       "VBox(children=(HBox(children=(IntProgress(value=0, description='0.00%', max=654), Label(value='0 / 654'))), HB…"
      ]
     },
     "metadata": {},
     "output_type": "display_data"
    },
    {
     "name": "stdout",
     "output_type": "stream",
     "text": [
      "INFO: Pandarallel will run on 6 workers.\n",
      "INFO: Pandarallel will use standard multiprocessing data transfer (pipe) to transfer data between the main process and workers.\n",
      "\n",
      "WARNING: You are on Windows. If you detect any issue with pandarallel, be sure you checked out the Troubleshooting page:\n",
      "https://nalepae.github.io/pandarallel/troubleshooting/\n"
     ]
    },
    {
     "data": {
      "application/vnd.jupyter.widget-view+json": {
       "model_id": "815572c64d0c49b4a610b92e873a692c",
       "version_major": 2,
       "version_minor": 0
      },
      "text/plain": [
       "VBox(children=(HBox(children=(IntProgress(value=0, description='0.00%', max=1172), Label(value='0 / 1172'))), …"
      ]
     },
     "metadata": {},
     "output_type": "display_data"
    },
    {
     "name": "stdout",
     "output_type": "stream",
     "text": [
      "INFO: Pandarallel will run on 6 workers.\n",
      "INFO: Pandarallel will use standard multiprocessing data transfer (pipe) to transfer data between the main process and workers.\n",
      "\n",
      "WARNING: You are on Windows. If you detect any issue with pandarallel, be sure you checked out the Troubleshooting page:\n",
      "https://nalepae.github.io/pandarallel/troubleshooting/\n"
     ]
    },
    {
     "data": {
      "application/vnd.jupyter.widget-view+json": {
       "model_id": "952d737485aa450991036ea1fdd0e1d0",
       "version_major": 2,
       "version_minor": 0
      },
      "text/plain": [
       "VBox(children=(HBox(children=(IntProgress(value=0, description='0.00%', max=853), Label(value='0 / 853'))), HB…"
      ]
     },
     "metadata": {},
     "output_type": "display_data"
    },
    {
     "name": "stdout",
     "output_type": "stream",
     "text": [
      "INFO: Pandarallel will run on 6 workers.\n",
      "INFO: Pandarallel will use standard multiprocessing data transfer (pipe) to transfer data between the main process and workers.\n",
      "\n",
      "WARNING: You are on Windows. If you detect any issue with pandarallel, be sure you checked out the Troubleshooting page:\n",
      "https://nalepae.github.io/pandarallel/troubleshooting/\n"
     ]
    },
    {
     "data": {
      "application/vnd.jupyter.widget-view+json": {
       "model_id": "a183b64ca4bd467988f293fe3eef54ab",
       "version_major": 2,
       "version_minor": 0
      },
      "text/plain": [
       "VBox(children=(HBox(children=(IntProgress(value=0, description='0.00%', max=828), Label(value='0 / 828'))), HB…"
      ]
     },
     "metadata": {},
     "output_type": "display_data"
    },
    {
     "name": "stdout",
     "output_type": "stream",
     "text": [
      "INFO: Pandarallel will run on 6 workers.\n",
      "INFO: Pandarallel will use standard multiprocessing data transfer (pipe) to transfer data between the main process and workers.\n",
      "\n",
      "WARNING: You are on Windows. If you detect any issue with pandarallel, be sure you checked out the Troubleshooting page:\n",
      "https://nalepae.github.io/pandarallel/troubleshooting/\n"
     ]
    },
    {
     "data": {
      "application/vnd.jupyter.widget-view+json": {
       "model_id": "3449f89597944dd4afff233f3c511721",
       "version_major": 2,
       "version_minor": 0
      },
      "text/plain": [
       "VBox(children=(HBox(children=(IntProgress(value=0, description='0.00%', max=715), Label(value='0 / 715'))), HB…"
      ]
     },
     "metadata": {},
     "output_type": "display_data"
    },
    {
     "name": "stdout",
     "output_type": "stream",
     "text": [
      "INFO: Pandarallel will run on 6 workers.\n",
      "INFO: Pandarallel will use standard multiprocessing data transfer (pipe) to transfer data between the main process and workers.\n",
      "\n",
      "WARNING: You are on Windows. If you detect any issue with pandarallel, be sure you checked out the Troubleshooting page:\n",
      "https://nalepae.github.io/pandarallel/troubleshooting/\n"
     ]
    },
    {
     "data": {
      "application/vnd.jupyter.widget-view+json": {
       "model_id": "41607cea46cc40fb9d4ddc6f547c2191",
       "version_major": 2,
       "version_minor": 0
      },
      "text/plain": [
       "VBox(children=(HBox(children=(IntProgress(value=0, description='0.00%', max=788), Label(value='0 / 788'))), HB…"
      ]
     },
     "metadata": {},
     "output_type": "display_data"
    },
    {
     "name": "stdout",
     "output_type": "stream",
     "text": [
      "INFO: Pandarallel will run on 6 workers.\n",
      "INFO: Pandarallel will use standard multiprocessing data transfer (pipe) to transfer data between the main process and workers.\n",
      "\n",
      "WARNING: You are on Windows. If you detect any issue with pandarallel, be sure you checked out the Troubleshooting page:\n",
      "https://nalepae.github.io/pandarallel/troubleshooting/\n"
     ]
    },
    {
     "data": {
      "application/vnd.jupyter.widget-view+json": {
       "model_id": "de76d91f543d4a6e828799f52195c606",
       "version_major": 2,
       "version_minor": 0
      },
      "text/plain": [
       "VBox(children=(HBox(children=(IntProgress(value=0, description='0.00%', max=1346), Label(value='0 / 1346'))), …"
      ]
     },
     "metadata": {},
     "output_type": "display_data"
    },
    {
     "name": "stdout",
     "output_type": "stream",
     "text": [
      "INFO: Pandarallel will run on 6 workers.\n",
      "INFO: Pandarallel will use standard multiprocessing data transfer (pipe) to transfer data between the main process and workers.\n",
      "\n",
      "WARNING: You are on Windows. If you detect any issue with pandarallel, be sure you checked out the Troubleshooting page:\n",
      "https://nalepae.github.io/pandarallel/troubleshooting/\n"
     ]
    },
    {
     "data": {
      "application/vnd.jupyter.widget-view+json": {
       "model_id": "6b04ab23075a4c2dbbbd33bd0291ac3f",
       "version_major": 2,
       "version_minor": 0
      },
      "text/plain": [
       "VBox(children=(HBox(children=(IntProgress(value=0, description='0.00%', max=1310), Label(value='0 / 1310'))), …"
      ]
     },
     "metadata": {},
     "output_type": "display_data"
    },
    {
     "name": "stdout",
     "output_type": "stream",
     "text": [
      "INFO: Pandarallel will run on 6 workers.\n",
      "INFO: Pandarallel will use standard multiprocessing data transfer (pipe) to transfer data between the main process and workers.\n",
      "\n",
      "WARNING: You are on Windows. If you detect any issue with pandarallel, be sure you checked out the Troubleshooting page:\n",
      "https://nalepae.github.io/pandarallel/troubleshooting/\n"
     ]
    },
    {
     "data": {
      "application/vnd.jupyter.widget-view+json": {
       "model_id": "7c480d5f7cec415da5a3dc97bbc4e086",
       "version_major": 2,
       "version_minor": 0
      },
      "text/plain": [
       "VBox(children=(HBox(children=(IntProgress(value=0, description='0.00%', max=774), Label(value='0 / 774'))), HB…"
      ]
     },
     "metadata": {},
     "output_type": "display_data"
    },
    {
     "name": "stdout",
     "output_type": "stream",
     "text": [
      "INFO: Pandarallel will run on 6 workers.\n",
      "INFO: Pandarallel will use standard multiprocessing data transfer (pipe) to transfer data between the main process and workers.\n",
      "\n",
      "WARNING: You are on Windows. If you detect any issue with pandarallel, be sure you checked out the Troubleshooting page:\n",
      "https://nalepae.github.io/pandarallel/troubleshooting/\n"
     ]
    },
    {
     "data": {
      "application/vnd.jupyter.widget-view+json": {
       "model_id": "20847bb18e4043d1b0659378dec3a601",
       "version_major": 2,
       "version_minor": 0
      },
      "text/plain": [
       "VBox(children=(HBox(children=(IntProgress(value=0, description='0.00%', max=1783), Label(value='0 / 1783'))), …"
      ]
     },
     "metadata": {},
     "output_type": "display_data"
    },
    {
     "name": "stdout",
     "output_type": "stream",
     "text": [
      "INFO: Pandarallel will run on 6 workers.\n",
      "INFO: Pandarallel will use standard multiprocessing data transfer (pipe) to transfer data between the main process and workers.\n",
      "\n",
      "WARNING: You are on Windows. If you detect any issue with pandarallel, be sure you checked out the Troubleshooting page:\n",
      "https://nalepae.github.io/pandarallel/troubleshooting/\n"
     ]
    },
    {
     "data": {
      "application/vnd.jupyter.widget-view+json": {
       "model_id": "af3ad1601f704491b76fe6277929c8df",
       "version_major": 2,
       "version_minor": 0
      },
      "text/plain": [
       "VBox(children=(HBox(children=(IntProgress(value=0, description='0.00%', max=1172), Label(value='0 / 1172'))), …"
      ]
     },
     "metadata": {},
     "output_type": "display_data"
    },
    {
     "name": "stdout",
     "output_type": "stream",
     "text": [
      "INFO: Pandarallel will run on 6 workers.\n",
      "INFO: Pandarallel will use standard multiprocessing data transfer (pipe) to transfer data between the main process and workers.\n",
      "\n",
      "WARNING: You are on Windows. If you detect any issue with pandarallel, be sure you checked out the Troubleshooting page:\n",
      "https://nalepae.github.io/pandarallel/troubleshooting/\n"
     ]
    },
    {
     "data": {
      "application/vnd.jupyter.widget-view+json": {
       "model_id": "77d322461277469fb3300a4bca658036",
       "version_major": 2,
       "version_minor": 0
      },
      "text/plain": [
       "VBox(children=(HBox(children=(IntProgress(value=0, description='0.00%', max=1668), Label(value='0 / 1668'))), …"
      ]
     },
     "metadata": {},
     "output_type": "display_data"
    },
    {
     "name": "stdout",
     "output_type": "stream",
     "text": [
      "INFO: Pandarallel will run on 6 workers.\n",
      "INFO: Pandarallel will use standard multiprocessing data transfer (pipe) to transfer data between the main process and workers.\n",
      "\n",
      "WARNING: You are on Windows. If you detect any issue with pandarallel, be sure you checked out the Troubleshooting page:\n",
      "https://nalepae.github.io/pandarallel/troubleshooting/\n"
     ]
    },
    {
     "data": {
      "application/vnd.jupyter.widget-view+json": {
       "model_id": "6ff5fd4e9d8640edab705f2ce7ce0f47",
       "version_major": 2,
       "version_minor": 0
      },
      "text/plain": [
       "VBox(children=(HBox(children=(IntProgress(value=0, description='0.00%', max=2825), Label(value='0 / 2825'))), …"
      ]
     },
     "metadata": {},
     "output_type": "display_data"
    },
    {
     "name": "stdout",
     "output_type": "stream",
     "text": [
      "INFO: Pandarallel will run on 6 workers.\n",
      "INFO: Pandarallel will use standard multiprocessing data transfer (pipe) to transfer data between the main process and workers.\n",
      "\n",
      "WARNING: You are on Windows. If you detect any issue with pandarallel, be sure you checked out the Troubleshooting page:\n",
      "https://nalepae.github.io/pandarallel/troubleshooting/\n"
     ]
    },
    {
     "data": {
      "application/vnd.jupyter.widget-view+json": {
       "model_id": "6eff9ee83f1c4960b81412f330c498e7",
       "version_major": 2,
       "version_minor": 0
      },
      "text/plain": [
       "VBox(children=(HBox(children=(IntProgress(value=0, description='0.00%', max=2253), Label(value='0 / 2253'))), …"
      ]
     },
     "metadata": {},
     "output_type": "display_data"
    },
    {
     "name": "stdout",
     "output_type": "stream",
     "text": [
      "INFO: Pandarallel will run on 6 workers.\n",
      "INFO: Pandarallel will use standard multiprocessing data transfer (pipe) to transfer data between the main process and workers.\n",
      "\n",
      "WARNING: You are on Windows. If you detect any issue with pandarallel, be sure you checked out the Troubleshooting page:\n",
      "https://nalepae.github.io/pandarallel/troubleshooting/\n"
     ]
    },
    {
     "data": {
      "application/vnd.jupyter.widget-view+json": {
       "model_id": "96317b50ad7a4203ba4d41298a6dc767",
       "version_major": 2,
       "version_minor": 0
      },
      "text/plain": [
       "VBox(children=(HBox(children=(IntProgress(value=0, description='0.00%', max=2050), Label(value='0 / 2050'))), …"
      ]
     },
     "metadata": {},
     "output_type": "display_data"
    },
    {
     "name": "stdout",
     "output_type": "stream",
     "text": [
      "INFO: Pandarallel will run on 6 workers.\n",
      "INFO: Pandarallel will use standard multiprocessing data transfer (pipe) to transfer data between the main process and workers.\n",
      "\n",
      "WARNING: You are on Windows. If you detect any issue with pandarallel, be sure you checked out the Troubleshooting page:\n",
      "https://nalepae.github.io/pandarallel/troubleshooting/\n"
     ]
    },
    {
     "data": {
      "application/vnd.jupyter.widget-view+json": {
       "model_id": "5e53030fd93c48db829725c766190158",
       "version_major": 2,
       "version_minor": 0
      },
      "text/plain": [
       "VBox(children=(HBox(children=(IntProgress(value=0, description='0.00%', max=1822), Label(value='0 / 1822'))), …"
      ]
     },
     "metadata": {},
     "output_type": "display_data"
    },
    {
     "name": "stdout",
     "output_type": "stream",
     "text": [
      "INFO: Pandarallel will run on 6 workers.\n",
      "INFO: Pandarallel will use standard multiprocessing data transfer (pipe) to transfer data between the main process and workers.\n",
      "\n",
      "WARNING: You are on Windows. If you detect any issue with pandarallel, be sure you checked out the Troubleshooting page:\n",
      "https://nalepae.github.io/pandarallel/troubleshooting/\n"
     ]
    },
    {
     "data": {
      "application/vnd.jupyter.widget-view+json": {
       "model_id": "0ed14dc8947e46e9a70ddc400ac6f684",
       "version_major": 2,
       "version_minor": 0
      },
      "text/plain": [
       "VBox(children=(HBox(children=(IntProgress(value=0, description='0.00%', max=2517), Label(value='0 / 2517'))), …"
      ]
     },
     "metadata": {},
     "output_type": "display_data"
    },
    {
     "name": "stdout",
     "output_type": "stream",
     "text": [
      "INFO: Pandarallel will run on 6 workers.\n",
      "INFO: Pandarallel will use standard multiprocessing data transfer (pipe) to transfer data between the main process and workers.\n",
      "\n",
      "WARNING: You are on Windows. If you detect any issue with pandarallel, be sure you checked out the Troubleshooting page:\n",
      "https://nalepae.github.io/pandarallel/troubleshooting/\n"
     ]
    },
    {
     "data": {
      "application/vnd.jupyter.widget-view+json": {
       "model_id": "f219620ea5704057a6b40771b11cef54",
       "version_major": 2,
       "version_minor": 0
      },
      "text/plain": [
       "VBox(children=(HBox(children=(IntProgress(value=0, description='0.00%', max=1281), Label(value='0 / 1281'))), …"
      ]
     },
     "metadata": {},
     "output_type": "display_data"
    },
    {
     "name": "stdout",
     "output_type": "stream",
     "text": [
      "INFO: Pandarallel will run on 6 workers.\n",
      "INFO: Pandarallel will use standard multiprocessing data transfer (pipe) to transfer data between the main process and workers.\n",
      "\n",
      "WARNING: You are on Windows. If you detect any issue with pandarallel, be sure you checked out the Troubleshooting page:\n",
      "https://nalepae.github.io/pandarallel/troubleshooting/\n"
     ]
    },
    {
     "data": {
      "application/vnd.jupyter.widget-view+json": {
       "model_id": "713c639b31e2420780d867e90d11fa61",
       "version_major": 2,
       "version_minor": 0
      },
      "text/plain": [
       "VBox(children=(HBox(children=(IntProgress(value=0, description='0.00%', max=1881), Label(value='0 / 1881'))), …"
      ]
     },
     "metadata": {},
     "output_type": "display_data"
    },
    {
     "name": "stdout",
     "output_type": "stream",
     "text": [
      "INFO: Pandarallel will run on 6 workers.\n",
      "INFO: Pandarallel will use standard multiprocessing data transfer (pipe) to transfer data between the main process and workers.\n",
      "\n",
      "WARNING: You are on Windows. If you detect any issue with pandarallel, be sure you checked out the Troubleshooting page:\n",
      "https://nalepae.github.io/pandarallel/troubleshooting/\n"
     ]
    },
    {
     "data": {
      "application/vnd.jupyter.widget-view+json": {
       "model_id": "ab68c809a9b84e8d8e6a52636e8472e2",
       "version_major": 2,
       "version_minor": 0
      },
      "text/plain": [
       "VBox(children=(HBox(children=(IntProgress(value=0, description='0.00%', max=1653), Label(value='0 / 1653'))), …"
      ]
     },
     "metadata": {},
     "output_type": "display_data"
    },
    {
     "name": "stdout",
     "output_type": "stream",
     "text": [
      "INFO: Pandarallel will run on 6 workers.\n",
      "INFO: Pandarallel will use standard multiprocessing data transfer (pipe) to transfer data between the main process and workers.\n",
      "\n",
      "WARNING: You are on Windows. If you detect any issue with pandarallel, be sure you checked out the Troubleshooting page:\n",
      "https://nalepae.github.io/pandarallel/troubleshooting/\n"
     ]
    },
    {
     "data": {
      "application/vnd.jupyter.widget-view+json": {
       "model_id": "350efe0cd59449e092917b018531c900",
       "version_major": 2,
       "version_minor": 0
      },
      "text/plain": [
       "VBox(children=(HBox(children=(IntProgress(value=0, description='0.00%', max=1715), Label(value='0 / 1715'))), …"
      ]
     },
     "metadata": {},
     "output_type": "display_data"
    },
    {
     "name": "stdout",
     "output_type": "stream",
     "text": [
      "INFO: Pandarallel will run on 6 workers.\n",
      "INFO: Pandarallel will use standard multiprocessing data transfer (pipe) to transfer data between the main process and workers.\n",
      "\n",
      "WARNING: You are on Windows. If you detect any issue with pandarallel, be sure you checked out the Troubleshooting page:\n",
      "https://nalepae.github.io/pandarallel/troubleshooting/\n"
     ]
    },
    {
     "data": {
      "application/vnd.jupyter.widget-view+json": {
       "model_id": "94e4106a21d048a6bb022e66758db2a7",
       "version_major": 2,
       "version_minor": 0
      },
      "text/plain": [
       "VBox(children=(HBox(children=(IntProgress(value=0, description='0.00%', max=2068), Label(value='0 / 2068'))), …"
      ]
     },
     "metadata": {},
     "output_type": "display_data"
    },
    {
     "name": "stdout",
     "output_type": "stream",
     "text": [
      "INFO: Pandarallel will run on 6 workers.\n",
      "INFO: Pandarallel will use standard multiprocessing data transfer (pipe) to transfer data between the main process and workers.\n",
      "\n",
      "WARNING: You are on Windows. If you detect any issue with pandarallel, be sure you checked out the Troubleshooting page:\n",
      "https://nalepae.github.io/pandarallel/troubleshooting/\n"
     ]
    },
    {
     "data": {
      "application/vnd.jupyter.widget-view+json": {
       "model_id": "a19ad1aea05542e48fa6f37c6393792a",
       "version_major": 2,
       "version_minor": 0
      },
      "text/plain": [
       "VBox(children=(HBox(children=(IntProgress(value=0, description='0.00%', max=1259), Label(value='0 / 1259'))), …"
      ]
     },
     "metadata": {},
     "output_type": "display_data"
    },
    {
     "name": "stdout",
     "output_type": "stream",
     "text": [
      "INFO: Pandarallel will run on 6 workers.\n",
      "INFO: Pandarallel will use standard multiprocessing data transfer (pipe) to transfer data between the main process and workers.\n",
      "\n",
      "WARNING: You are on Windows. If you detect any issue with pandarallel, be sure you checked out the Troubleshooting page:\n",
      "https://nalepae.github.io/pandarallel/troubleshooting/\n"
     ]
    },
    {
     "data": {
      "application/vnd.jupyter.widget-view+json": {
       "model_id": "07b720603fc04838bf4e2bb829d0a4e1",
       "version_major": 2,
       "version_minor": 0
      },
      "text/plain": [
       "VBox(children=(HBox(children=(IntProgress(value=0, description='0.00%', max=2715), Label(value='0 / 2715'))), …"
      ]
     },
     "metadata": {},
     "output_type": "display_data"
    },
    {
     "name": "stdout",
     "output_type": "stream",
     "text": [
      "INFO: Pandarallel will run on 6 workers.\n",
      "INFO: Pandarallel will use standard multiprocessing data transfer (pipe) to transfer data between the main process and workers.\n",
      "\n",
      "WARNING: You are on Windows. If you detect any issue with pandarallel, be sure you checked out the Troubleshooting page:\n",
      "https://nalepae.github.io/pandarallel/troubleshooting/\n"
     ]
    },
    {
     "data": {
      "application/vnd.jupyter.widget-view+json": {
       "model_id": "7595f6334ead4eb6866a988f9f189944",
       "version_major": 2,
       "version_minor": 0
      },
      "text/plain": [
       "VBox(children=(HBox(children=(IntProgress(value=0, description='0.00%', max=3639), Label(value='0 / 3639'))), …"
      ]
     },
     "metadata": {},
     "output_type": "display_data"
    },
    {
     "name": "stdout",
     "output_type": "stream",
     "text": [
      "INFO: Pandarallel will run on 6 workers.\n",
      "INFO: Pandarallel will use standard multiprocessing data transfer (pipe) to transfer data between the main process and workers.\n",
      "\n",
      "WARNING: You are on Windows. If you detect any issue with pandarallel, be sure you checked out the Troubleshooting page:\n",
      "https://nalepae.github.io/pandarallel/troubleshooting/\n"
     ]
    },
    {
     "data": {
      "application/vnd.jupyter.widget-view+json": {
       "model_id": "003cfb13aa334f8f862503cd084ba2d9",
       "version_major": 2,
       "version_minor": 0
      },
      "text/plain": [
       "VBox(children=(HBox(children=(IntProgress(value=0, description='0.00%', max=1041), Label(value='0 / 1041'))), …"
      ]
     },
     "metadata": {},
     "output_type": "display_data"
    }
   ],
   "source": [
    "from pandarallel import pandarallel\n",
    "\n",
    "outputDir = \"output/TeloNPInprogress\"\n",
    "\n",
    "def rowToTeloBP(row):\n",
    "    import numpy as np\n",
    "    from TeloBP import getTeloNPBoundary\n",
    "    # This if statement is to catch any rows which have NaN in the seq column. \n",
    "    # Ideally this should not be necessary, but it is here just in case.\n",
    "    if row[\"seq\"] is np.nan:\n",
    "        return -1000\n",
    "    \n",
    "    teloLength = getTeloNPBoundary(row[\"seq\"])\n",
    "    return teloLength\n",
    "\n",
    "# # The following will multiprocess the rowToTeloBP function\n",
    "# for sampleKey in sampleQnames.keys():\n",
    "#     sampleDf = sampleQnames[sampleKey]\n",
    "    \n",
    "#     pandarallel.initialize(progress_bar=True )\n",
    "#     sampleDf[\"teloBPLengths\"] = sampleDf.parallel_apply(rowToTeloBP,axis=1)\n",
    "\n",
    "#     # I highly recommend multi-processing, but if you want to single process,\n",
    "#     # comment out the above two lines and uncomment the following line:\n",
    "#     # sampleDf[\"teloBPLengths\"] = sampleDf.apply(lambda row: rowToTeloBP(row), axis=1)\n",
    "\n",
    "#     sampleQnames[sampleKey] = sampleDf\n",
    "\n",
    "#     # save the output to a csv file. \n",
    "#     # Note that the seq column is removed from the table before saving \n",
    "#     sampleQnames[sampleKey] = sampleQnames[sampleKey].drop(columns=[\"seq\"])\n",
    "#     sampleQnames[sampleKey].to_csv(f\"{outputDir}/{sampleKey}.csv\")\n",
    "\n",
    "\n",
    "# The following will multiprocess each table into its own process and save the output to a csv file\n",
    "\n",
    "\n",
    "def process_table(sampleKey):\n",
    "    sampleDf = sampleQnames[sampleKey]\n",
    "    \n",
    "    # Apply the function to each row\n",
    "    sampleDf[\"teloBPLengths\"] = sampleDf.apply(rowToTeloBP, axis=1)\n",
    "\n",
    "    # Save the output to a csv file. \n",
    "    # Note that the seq column is removed from the table before saving \n",
    "    sampleDf = sampleDf.drop(columns=[\"seq\"])\n",
    "    sampleDf.to_csv(f\"{outputDir}/{sampleKey}.csv\")\n",
    "\n",
    "# Create a pool of processes\n",
    "with mp.Pool(mp.cpu_count()) as pool:\n",
    "    pool.map(process_table, sampleQnames.keys())"
   ]
  },
  {
   "cell_type": "markdown",
   "metadata": {},
   "source": [
    "Processing the TeloNP results (Much of this code can be reduced into a single cell, separated for clarity)"
   ]
  },
  {
   "cell_type": "code",
   "execution_count": null,
   "metadata": {},
   "outputs": [
    {
     "name": "stdout",
     "output_type": "stream",
     "text": [
      "No end.aln column found in F33_NB50\n"
     ]
    }
   ],
   "source": [
    "# Some of the inputted tables have different column names for their \"end.aln\" column, like \"JH39.1ug.NB88uq.end.aln\", so this section will fix this\n",
    "error()\n",
    "for sampleKey in sampleQnames:\n",
    "    if not (\"end.aln\" in sampleQnames[sampleKey].columns):\n",
    "        # merge any columns containing end.aln\n",
    "        colSearchList = [x for x in sampleQnames[sampleKey].columns if \"end.aln\" in x]\n",
    "        if len(colSearchList) == 0:\n",
    "            print(f\"No end.aln column found in {sampleKey}\")\n",
    "            continue\n",
    "        # merge\n",
    "        sampleQnames[sampleKey][\"end.aln\"] = sampleQnames[sampleKey][colSearchList].max(axis=1)\n",
    "        #drop old columns\n",
    "        sampleQnames[sampleKey].drop(columns=colSearchList, inplace=True)"
   ]
  },
  {
   "cell_type": "code",
   "execution_count": null,
   "metadata": {},
   "outputs": [
    {
     "name": "stdout",
     "output_type": "stream",
     "text": [
      "No end.aln column found in F33_NB50\n"
     ]
    }
   ],
   "source": [
    "# TeloNP will return the length in bp from the end of the sequence to the telomere boundary, meaning it will include any \n",
    "# barcode or telotag sequence as telomere. Here we are adjusting for this. \n",
    "\n",
    "for sampleKey in sampleQnames:\n",
    "    sampleDf = sampleQnames[sampleKey]\n",
    "    if \"end.aln\" not in sampleDf.columns:\n",
    "        print(f\"No end.aln column found in {sampleKey}\")\n",
    "        continue\n",
    "    sampleDf[\"end.aln + 10\"] = sampleDf[\"end.aln\"] + 10\n",
    "    sampleDf[\"TeloNPCorrectedLength\"] = sampleDf[\"teloBPLengths\"] - sampleDf[\"end.aln + 10\"]\n",
    "    # if unnamed column exists, drop it\n",
    "    if \"Unnamed: 0\" in sampleDf.columns:\n",
    "        sampleDf.drop(columns=[\"Unnamed: 0\"], inplace=True)"
   ]
  },
  {
   "cell_type": "code",
   "execution_count": null,
   "metadata": {},
   "outputs": [
    {
     "name": "stdout",
     "output_type": "stream",
     "text": [
      "Warning: TeloNP corrected lengths were not used. teloBPLengths < 0 were filtered instead.\n"
     ]
    }
   ],
   "source": [
    "# Removing any rows with teloBPLengths < 0\n",
    "\n",
    "uncorrectedLengthUsed = False \n",
    "for sampleKey in sampleQnames.keys():\n",
    "    sampleDf = sampleQnames[sampleKey]\n",
    "    if \"TeloNPCorrectedLength\" in sampleDf.columns:\n",
    "        sampleDf = sampleDf[sampleDf[\"TeloNPCorrectedLength\"] > 0]\n",
    "    else:\n",
    "        uncorrectedLengthUsed = True\n",
    "        sampleDf = sampleDf[sampleDf[\"teloBPLengths\"] > 0]\n",
    "    sampleQnames[sampleKey] = sampleDf\n",
    "\n",
    "if uncorrectedLengthUsed:\n",
    "    print(\"Warning: TeloNP corrected lengths were not used. teloBPLengths < 0 were filtered instead.\")"
   ]
  },
  {
   "cell_type": "code",
   "execution_count": null,
   "metadata": {},
   "outputs": [],
   "source": [
    "# Save the processed files\n",
    "\n",
    "outputDir = \"output/TeloNPOutput\"\n",
    "\n",
    "for sampleKey in sampleQnames.keys():\n",
    "    sampleQnames[sampleKey].to_csv(f\"{outputDir}/{sampleKey}.csv\")\n"
   ]
  }
 ],
 "metadata": {
  "kernelspec": {
   "display_name": "TeloAnalysis",
   "language": "python",
   "name": "python3"
  },
  "language_info": {
   "codemirror_mode": {
    "name": "ipython",
    "version": 3
   },
   "file_extension": ".py",
   "mimetype": "text/x-python",
   "name": "python",
   "nbconvert_exporter": "python",
   "pygments_lexer": "ipython3",
   "version": "3.10.11"
  }
 },
 "nbformat": 4,
 "nbformat_minor": 2
}
