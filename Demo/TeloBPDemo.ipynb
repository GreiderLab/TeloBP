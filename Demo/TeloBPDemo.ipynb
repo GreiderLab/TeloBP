{
  "cells": [
    {
      "cell_type": "code",
      "execution_count": 2,
      "metadata": {},
      "outputs": [],
      "source": [
        "# This is a demo file showing the usage of TeloBP, an algorithm for detecting telomere boundary in a DNA sequence.\n",
        "# The algorithm will look for a discontinuity in the telomere pattern, \n",
        "# marking the point where the sequence changes from telomere to non-telomere as the boundary. \n",
        "\n",
        "from Bio import SeqIO\n",
        "import sys\n",
        "\n",
        "sys.path.insert(0, '../TeloBP')\n",
        "from TeloBP import *\n",
        "import constants as c"
      ]
    },
    {
      "cell_type": "code",
      "execution_count": null,
      "metadata": {},
      "outputs": [],
      "source": [
        "bed_data = []\n",
        "offsetScores = []\n",
        "\n",
        "showGraphs = True\n",
        "\n",
        "# This file is not included in the repository. \n",
        "filename = \"Data/GCA_009914755.4_T2T-CHM13v2.0_genomic.500kb.ends.fna\"\n",
        "for record in SeqIO.parse(filename, \"fasta\"):\n",
        "    chrName = record.id\n",
        "    print(chrName)\n",
        "\n",
        "    if \"p\" in chrName:\n",
        "        distanceFromStart = getTeloBoundary(record.seq[:10000], composition=[[\"CCC\",3/6]], targetPatternIndex=-1, isGStrand=False, teloWindow=100,nucleotideGraphAreaWindowSize=500, windowStep=6,plateauDetectionThreshold=-60, changeThreshold=-20, showGraphs=showGraphs)\n",
        "        print(\"p end: \" + str(distanceFromStart))\n",
        "        pEndIndex = distanceFromStart\n",
        "        bed_data.append([chrName, pEndIndex-6, pEndIndex, chrName])\n",
        "        offset = testTeloLength(chrName, distanceFromStart, c.manualLabelsCHM13)\n",
        "        print(\"offset: \"+str(offset))\n",
        "        offsetScores.append([chrName, offset])\n",
        "    else:\n",
        "        distanceFromEnd = getTeloBoundary(record.seq[-10000:], composition=[[\"GGG\",3/6]], targetPatternIndex=-1, isGStrand = True, teloWindow=100,nucleotideGraphAreaWindowSize=500, windowStep=6,plateauDetectionThreshold=-60, changeThreshold=-20, showGraphs=showGraphs)\n",
        "        print(\"q end: \" + str(distanceFromEnd))\n",
        "        qEndIndex = len(record.seq)-distanceFromEnd\n",
        "        bed_data.append([chrName, qEndIndex, qEndIndex+6, chrName])\n",
        "        offset = testTeloLength(chrName, distanceFromEnd, c.manualLabelsCHM13)\n",
        "        print(\"offset: \"+str(offset))\n",
        "        offsetScores.append([chrName, offset])\n",
        "        \n",
        "# write_bed_file(\"./teloBoundaryOutput/TeloBP%2.0Values.bed\", bed_data)"
      ]
    },
    {
      "cell_type": "code",
      "execution_count": 5,
      "metadata": {},
      "outputs": [
        {
          "name": "stdout",
          "output_type": "stream",
          "text": [
            "chr10_MATERNAL\n"
          ]
        }
      ],
      "source": [
        "bed_data = []\n",
        "offsetScores = []\n",
        "\n",
        "showGraphs = True\n",
        "\n",
        "# This file is not included in the repository. \n",
        "filename = \"Data/hg002v1.0.1.fasta\"\n",
        "for record in SeqIO.parse(filename, \"fasta\"):\n",
        "    chrName = record.id\n",
        "    print(chrName)\n",
        "    \n",
        "    CStrandTeloLength = getTeloBoundary(record.seq[:500000], isGStrand=False)\n",
        "    GStrandTeloLength = getTeloBoundary(record.seq[-500000:], isGStrand=True)\n",
        "    bed_data.append([chrName, CStrandTeloLength-6, CStrandTeloLength, chrName + \"_CStrand\"])\n",
        "    bed_data.append([chrName, len(record.seq)-GStrandTeloLength, len(record.seq)-GStrandTeloLength+6, chrName + \"_GStrand\"])\n",
        "    break\n",
        "\n",
        "file = filename.split(\"/\")[-1]\n",
        "\n",
        "write_bed_file(f\"output/TeloBP_{file}.bed\", bed_data)\n",
        "        \n"
      ]
    }
  ],
  "metadata": {
    "kernelspec": {
      "display_name": "TeloAnalysis",
      "language": "python",
      "name": "python3"
    },
    "language_info": {
      "codemirror_mode": {
        "name": "ipython",
        "version": 3
      },
      "file_extension": ".py",
      "mimetype": "text/x-python",
      "name": "python",
      "nbconvert_exporter": "python",
      "pygments_lexer": "ipython3",
      "version": "3.10.11"
    },
    "orig_nbformat": 4
  },
  "nbformat": 4,
  "nbformat_minor": 2
}
